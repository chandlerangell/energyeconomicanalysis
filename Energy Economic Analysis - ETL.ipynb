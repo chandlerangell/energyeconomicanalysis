{
 "cells": [
  {
   "cell_type": "markdown",
   "metadata": {},
   "source": [
    "# Energy Economic Analysis - ETL"
   ]
  },
  {
   "cell_type": "code",
   "execution_count": 1,
   "metadata": {},
   "outputs": [],
   "source": [
    "import pandas as pd\n",
    "import os\n",
    "import time\n",
    "import pycountry\n",
    "import math\n",
    "import numpy as np\n",
    "import plotly.graph_objects as go"
   ]
  },
  {
   "cell_type": "markdown",
   "metadata": {},
   "source": [
    "# Identify Data Files\n",
    "\n",
    "Identify all spreadsheets that contain data for the scoring model.  Spreadsheets are stored in a folder titled 'Raw Data'."
   ]
  },
  {
   "cell_type": "code",
   "execution_count": 2,
   "metadata": {},
   "outputs": [
    {
     "name": "stdout",
     "output_type": "stream",
     "text": [
      "Total Files:  20\n"
     ]
    }
   ],
   "source": [
    "raw_files = os.listdir('./Raw Data')\n",
    "print(\"Total Files: \", len(raw_files))"
   ]
  },
  {
   "cell_type": "code",
   "execution_count": 3,
   "metadata": {},
   "outputs": [
    {
     "name": "stdout",
     "output_type": "stream",
     "text": [
      "BMI Files Found: \n"
     ]
    },
    {
     "data": {
      "text/plain": [
       "['BMIComparativeData_MIDDLE EAST.xlsx',\n",
       " 'BMIComparativeData_ASIA PT 2.xlsx',\n",
       " 'BMIComparativeData_AFRICA PT 1.xlsx',\n",
       " 'BMIComparativeData_GLOBAL.xlsx',\n",
       " 'BMIComparativeData_CARIBBEAN.xlsx',\n",
       " 'BMIComparativeData_EUROPE PT 1.xlsx',\n",
       " 'BMIComparativeData_EUROPE PT 2.xlsx',\n",
       " 'BMIComparativeData_NORTH AMERICA.xlsx',\n",
       " 'BMIComparativeData_ASIA PT 1.xlsx',\n",
       " 'BMIComparativeData_AFRICA PT 2.xlsx',\n",
       " 'BMIComparativeData_LATIN AMERICA.xlsx']"
      ]
     },
     "execution_count": 3,
     "metadata": {},
     "output_type": "execute_result"
    }
   ],
   "source": [
    "bmi_files = []\n",
    "for i in raw_files:\n",
    "    if ('BMI' in i) and ('~' not in i):\n",
    "        bmi_files.append(i)\n",
    "print('BMI Files Found: ')\n",
    "bmi_files"
   ]
  },
  {
   "cell_type": "code",
   "execution_count": 4,
   "metadata": {},
   "outputs": [
    {
     "name": "stdout",
     "output_type": "stream",
     "text": [
      "Access to Electricity Files Found: \n"
     ]
    },
    {
     "data": {
      "text/plain": [
       "['API_EG.ELC.ACCS.RU.ZS_DS2_Access to Electricity Rural.xls',\n",
       " 'API_EG.ELC.ACCS.UR.ZS_DS2_Access to Electricity Urban.xls',\n",
       " 'API_EG.ELC.ACCS.ZS_DS2_Access to Electricity.xls']"
      ]
     },
     "execution_count": 4,
     "metadata": {},
     "output_type": "execute_result"
    }
   ],
   "source": [
    "access_files = []\n",
    "for i in raw_files:\n",
    "    if ('API' in i) and ('~' not in i):\n",
    "        access_files.append(i)\n",
    "print('Access to Electricity Files Found: ')\n",
    "access_files"
   ]
  },
  {
   "cell_type": "code",
   "execution_count": 5,
   "metadata": {},
   "outputs": [
    {
     "name": "stdout",
     "output_type": "stream",
     "text": [
      "Other Files Found:\n",
      "RISE Scores 2017.xlsx\n",
      "Infrastructure Enterprise Survey.xlsx\n",
      "CO2 Emissions World Bank 2014.xlsx\n",
      "Market Potential.xlsx\n",
      "\n",
      "Files not included:\n",
      "['.DS_Store', 'Country Region Mapping.xlsx']\n"
     ]
    }
   ],
   "source": [
    "other_files = []\n",
    "rise_file = ''\n",
    "survey_file = ''\n",
    "co2_file = ''\n",
    "mktpot_file = ''\n",
    "\n",
    "for i in raw_files:\n",
    "    if 'RISE' in i:\n",
    "        rise_file = i\n",
    "    elif 'Enterprise' in i:\n",
    "        survey_file = i\n",
    "    elif 'CO2' in i:\n",
    "        co2_file = i\n",
    "    elif 'Potential' in i:\n",
    "        mktpot_file = i\n",
    "    elif (i not in bmi_files) and (i not in access_files) and ('~' not in i):\n",
    "        other_files.append(i)\n",
    "    else:\n",
    "        pass\n",
    "\n",
    "print('Other Files Found:')\n",
    "print(rise_file)\n",
    "print(survey_file)\n",
    "print(co2_file)\n",
    "print(mktpot_file)\n",
    "print('\\nFiles not included:')\n",
    "print(other_files)\n"
   ]
  },
  {
   "cell_type": "markdown",
   "metadata": {},
   "source": [
    "# Process BMI Files"
   ]
  },
  {
   "cell_type": "code",
   "execution_count": 6,
   "metadata": {},
   "outputs": [
    {
     "name": "stdout",
     "output_type": "stream",
     "text": [
      "Processing:  BMIComparativeData_MIDDLE EAST.xlsx\n",
      "Processing:  BMIComparativeData_ASIA PT 2.xlsx\n",
      "Processing:  BMIComparativeData_AFRICA PT 1.xlsx\n",
      "Processing:  BMIComparativeData_GLOBAL.xlsx\n",
      "Processing:  BMIComparativeData_CARIBBEAN.xlsx\n",
      "Processing:  BMIComparativeData_EUROPE PT 1.xlsx\n",
      "Processing:  BMIComparativeData_EUROPE PT 2.xlsx\n",
      "Processing:  BMIComparativeData_NORTH AMERICA.xlsx\n",
      "Processing:  BMIComparativeData_ASIA PT 1.xlsx\n",
      "Processing:  BMIComparativeData_AFRICA PT 2.xlsx\n",
      "Processing:  BMIComparativeData_LATIN AMERICA.xlsx\n"
     ]
    }
   ],
   "source": [
    "# Read in each BMI file \n",
    "bmi_df = pd.DataFrame()\n",
    "\n",
    "drop_cols = ['SeqId', 'Service Name', 'Data Definition', 'Data Source', 'Notes', 'Last Reviewed']\n",
    "\n",
    "for f in bmi_files:\n",
    "    print('Processing: ', f)\n",
    "    path = './Raw Data/' + f\n",
    "    temp_df = pd.read_excel(path, sheet_name='Yearly Data', header=9)\n",
    "    temp_df = temp_df.drop(drop_cols, axis=1)\n",
    "    bmi_df = pd.concat([bmi_df, temp_df], ignore_index=True, sort=False)\n",
    "\n",
    "bmi_df = bmi_df.drop('Sub-National Entity', axis=1)"
   ]
  },
  {
   "cell_type": "code",
   "execution_count": 7,
   "metadata": {},
   "outputs": [
    {
     "name": "stdout",
     "output_type": "stream",
     "text": [
      "BMI DataFrame Shape:  (8454, 18)\n",
      "Unique Geographies:  210\n",
      "Unique Indicators:  63\n"
     ]
    }
   ],
   "source": [
    "# Display statistics on BMI data\n",
    "print('BMI DataFrame Shape: ', bmi_df.shape)\n",
    "print('Unique Geographies: ', bmi_df['Geography'].nunique())\n",
    "print('Unique Indicators: ', bmi_df['Indicator Name'].nunique())"
   ]
  },
  {
   "cell_type": "code",
   "execution_count": 8,
   "metadata": {},
   "outputs": [],
   "source": [
    "# Convert column names to strings\n",
    "bmi_df.columns = list(map(lambda x: str(x), bmi_df.columns))"
   ]
  },
  {
   "cell_type": "code",
   "execution_count": 9,
   "metadata": {},
   "outputs": [
    {
     "data": {
      "text/html": [
       "<div>\n",
       "<style scoped>\n",
       "    .dataframe tbody tr th:only-of-type {\n",
       "        vertical-align: middle;\n",
       "    }\n",
       "\n",
       "    .dataframe tbody tr th {\n",
       "        vertical-align: top;\n",
       "    }\n",
       "\n",
       "    .dataframe thead th {\n",
       "        text-align: right;\n",
       "    }\n",
       "</style>\n",
       "<table border=\"1\" class=\"dataframe\">\n",
       "  <thead>\n",
       "    <tr style=\"text-align: right;\">\n",
       "      <th></th>\n",
       "      <th>Geography</th>\n",
       "      <th>Indicator Name</th>\n",
       "      <th>2010</th>\n",
       "      <th>2011</th>\n",
       "      <th>2012</th>\n",
       "      <th>2013</th>\n",
       "      <th>2014</th>\n",
       "      <th>2015</th>\n",
       "      <th>2016</th>\n",
       "      <th>2017</th>\n",
       "      <th>2018</th>\n",
       "      <th>2019</th>\n",
       "      <th>2020</th>\n",
       "      <th>2021</th>\n",
       "      <th>2022</th>\n",
       "      <th>2023</th>\n",
       "      <th>2024</th>\n",
       "      <th>2025</th>\n",
       "    </tr>\n",
       "  </thead>\n",
       "  <tbody>\n",
       "    <tr>\n",
       "      <td>0</td>\n",
       "      <td>MENA (Region)</td>\n",
       "      <td>ELECTRICITY GENERATION: Generation, Total, TWh</td>\n",
       "      <td>1005.8</td>\n",
       "      <td>1051.5</td>\n",
       "      <td>1112.7</td>\n",
       "      <td>1156.6</td>\n",
       "      <td>1237.6</td>\n",
       "      <td>1311.9</td>\n",
       "      <td>1342</td>\n",
       "      <td>1395.1</td>\n",
       "      <td>1442.6</td>\n",
       "      <td>1495.1</td>\n",
       "      <td>1494.2</td>\n",
       "      <td>1576.1</td>\n",
       "      <td>1648.5</td>\n",
       "      <td>1703.1</td>\n",
       "      <td>1751.7</td>\n",
       "      <td>1798.8</td>\n",
       "    </tr>\n",
       "    <tr>\n",
       "      <td>1</td>\n",
       "      <td>MENA (Region)</td>\n",
       "      <td>ELECTRICITY GENERATION: Generation, Total, % y...</td>\n",
       "      <td>8.401</td>\n",
       "      <td>4.537</td>\n",
       "      <td>5.818</td>\n",
       "      <td>3.95</td>\n",
       "      <td>7.002</td>\n",
       "      <td>6.006</td>\n",
       "      <td>2.294</td>\n",
       "      <td>3.959</td>\n",
       "      <td>3.399</td>\n",
       "      <td>3.641</td>\n",
       "      <td>-0.062</td>\n",
       "      <td>5.487</td>\n",
       "      <td>4.588</td>\n",
       "      <td>3.314</td>\n",
       "      <td>2.853</td>\n",
       "      <td>2.689</td>\n",
       "    </tr>\n",
       "    <tr>\n",
       "      <td>2</td>\n",
       "      <td>MENA (Region)</td>\n",
       "      <td>ELECTRICITY GENERATION: Generation, Total, KWh...</td>\n",
       "      <td>3049.08</td>\n",
       "      <td>3116.66</td>\n",
       "      <td>3223.16</td>\n",
       "      <td>3274.54</td>\n",
       "      <td>3426.72</td>\n",
       "      <td>3556.53</td>\n",
       "      <td>3566.33</td>\n",
       "      <td>3638.39</td>\n",
       "      <td>3695.68</td>\n",
       "      <td>3765.93</td>\n",
       "      <td>3703.19</td>\n",
       "      <td>3846.56</td>\n",
       "      <td>3964.38</td>\n",
       "      <td>4038.56</td>\n",
       "      <td>4097.77</td>\n",
       "      <td>4152.84</td>\n",
       "    </tr>\n",
       "    <tr>\n",
       "      <td>3</td>\n",
       "      <td>MENA (Region)</td>\n",
       "      <td>ELECTRICITY GENERATION: Generation, Thermal, TWh</td>\n",
       "      <td>971.306</td>\n",
       "      <td>1016.47</td>\n",
       "      <td>1074.78</td>\n",
       "      <td>1110.53</td>\n",
       "      <td>1194.26</td>\n",
       "      <td>1267.4</td>\n",
       "      <td>1290.93</td>\n",
       "      <td>1342.93</td>\n",
       "      <td>1387.38</td>\n",
       "      <td>1429.11</td>\n",
       "      <td>1411.56</td>\n",
       "      <td>1474.98</td>\n",
       "      <td>1526.64</td>\n",
       "      <td>1562.81</td>\n",
       "      <td>1603.46</td>\n",
       "      <td>1643.71</td>\n",
       "    </tr>\n",
       "    <tr>\n",
       "      <td>4</td>\n",
       "      <td>MENA (Region)</td>\n",
       "      <td>ELECTRICITY GENERATION: Generation, Thermal, %...</td>\n",
       "      <td>8.039</td>\n",
       "      <td>4.65</td>\n",
       "      <td>5.736</td>\n",
       "      <td>3.326</td>\n",
       "      <td>7.54</td>\n",
       "      <td>6.124</td>\n",
       "      <td>1.856</td>\n",
       "      <td>4.028</td>\n",
       "      <td>3.31</td>\n",
       "      <td>3.008</td>\n",
       "      <td>-1.228</td>\n",
       "      <td>4.493</td>\n",
       "      <td>3.502</td>\n",
       "      <td>2.369</td>\n",
       "      <td>2.601</td>\n",
       "      <td>2.51</td>\n",
       "    </tr>\n",
       "  </tbody>\n",
       "</table>\n",
       "</div>"
      ],
      "text/plain": [
       "        Geography                                     Indicator Name     2010  \\\n",
       "0   MENA (Region)     ELECTRICITY GENERATION: Generation, Total, TWh   1005.8   \n",
       "1   MENA (Region)  ELECTRICITY GENERATION: Generation, Total, % y...    8.401   \n",
       "2   MENA (Region)  ELECTRICITY GENERATION: Generation, Total, KWh...  3049.08   \n",
       "3   MENA (Region)   ELECTRICITY GENERATION: Generation, Thermal, TWh  971.306   \n",
       "4   MENA (Region)  ELECTRICITY GENERATION: Generation, Thermal, %...    8.039   \n",
       "\n",
       "      2011     2012     2013     2014     2015     2016     2017     2018  \\\n",
       "0   1051.5   1112.7   1156.6   1237.6   1311.9     1342   1395.1   1442.6   \n",
       "1    4.537    5.818     3.95    7.002    6.006    2.294    3.959    3.399   \n",
       "2  3116.66  3223.16  3274.54  3426.72  3556.53  3566.33  3638.39  3695.68   \n",
       "3  1016.47  1074.78  1110.53  1194.26   1267.4  1290.93  1342.93  1387.38   \n",
       "4     4.65    5.736    3.326     7.54    6.124    1.856    4.028     3.31   \n",
       "\n",
       "      2019     2020     2021     2022     2023     2024     2025  \n",
       "0   1495.1   1494.2   1576.1   1648.5   1703.1   1751.7   1798.8  \n",
       "1    3.641   -0.062    5.487    4.588    3.314    2.853    2.689  \n",
       "2  3765.93  3703.19  3846.56  3964.38  4038.56  4097.77  4152.84  \n",
       "3  1429.11  1411.56  1474.98  1526.64  1562.81  1603.46  1643.71  \n",
       "4    3.008   -1.228    4.493    3.502    2.369    2.601     2.51  "
      ]
     },
     "execution_count": 9,
     "metadata": {},
     "output_type": "execute_result"
    }
   ],
   "source": [
    "bmi_df.head()"
   ]
  },
  {
   "cell_type": "markdown",
   "metadata": {},
   "source": [
    "### Clean up BMI indicator names\n",
    "\n",
    "Indicator Names are long and descriptive, need to abbreviate them for easier viewing in the final dataframe."
   ]
  },
  {
   "cell_type": "code",
   "execution_count": 10,
   "metadata": {},
   "outputs": [],
   "source": [
    "# Read in indicator naming convention from spreadsheet\n",
    "indicators = pd.read_excel('./Dataset Indicators.xlsx', usecols=['Indicator Name', 'Abbreviated Name'])"
   ]
  },
  {
   "cell_type": "code",
   "execution_count": 11,
   "metadata": {},
   "outputs": [],
   "source": [
    "# Remove regional data in BMI dataframe\n",
    "bmi_df = bmi_df[list(map(lambda x: ('(Region)' not in x) and ('Eurozone' not in x), bmi_df['Geography']))]"
   ]
  },
  {
   "cell_type": "code",
   "execution_count": 12,
   "metadata": {},
   "outputs": [
    {
     "name": "stdout",
     "output_type": "stream",
     "text": [
      "Indicator Name replacement progress:\n",
      "| ---------------------------------------------------------------------------------- |\n",
      "  **********************************************************************************"
     ]
    }
   ],
   "source": [
    "# Apply abbreviated indicator names\n",
    "print('Indicator Name replacement progress:')\n",
    "print('|', '-'*int(math.ceil((len(bmi_df) / 100))), '|')\n",
    "print('  ', end='')\n",
    "\n",
    "for i in range(len(bmi_df)):\n",
    "    bmi_df.iloc[i,1] = list(indicators.loc[bmi_df.iloc[i,1] == indicators['Indicator Name']]['Abbreviated Name'])[0]\n",
    "    if i % 100 == 0:\n",
    "        print('*',end='')"
   ]
  },
  {
   "cell_type": "code",
   "execution_count": 13,
   "metadata": {},
   "outputs": [],
   "source": [
    "# Rename Country Column\n",
    "bmi_df.rename(columns={'Geography':'Country Name'}, inplace=True)"
   ]
  },
  {
   "cell_type": "code",
   "execution_count": 14,
   "metadata": {},
   "outputs": [
    {
     "data": {
      "text/html": [
       "<div>\n",
       "<style scoped>\n",
       "    .dataframe tbody tr th:only-of-type {\n",
       "        vertical-align: middle;\n",
       "    }\n",
       "\n",
       "    .dataframe tbody tr th {\n",
       "        vertical-align: top;\n",
       "    }\n",
       "\n",
       "    .dataframe thead th {\n",
       "        text-align: right;\n",
       "    }\n",
       "</style>\n",
       "<table border=\"1\" class=\"dataframe\">\n",
       "  <thead>\n",
       "    <tr style=\"text-align: right;\">\n",
       "      <th></th>\n",
       "      <th>Country Name</th>\n",
       "      <th>Indicator Name</th>\n",
       "      <th>2010</th>\n",
       "      <th>2011</th>\n",
       "      <th>2012</th>\n",
       "      <th>2013</th>\n",
       "      <th>2014</th>\n",
       "      <th>2015</th>\n",
       "      <th>2016</th>\n",
       "      <th>2017</th>\n",
       "      <th>2018</th>\n",
       "      <th>2019</th>\n",
       "      <th>2020</th>\n",
       "      <th>2021</th>\n",
       "      <th>2022</th>\n",
       "      <th>2023</th>\n",
       "      <th>2024</th>\n",
       "      <th>2025</th>\n",
       "    </tr>\n",
       "  </thead>\n",
       "  <tbody>\n",
       "    <tr>\n",
       "      <td>48</td>\n",
       "      <td>Bahrain</td>\n",
       "      <td>GEN_TOTAL_TWH</td>\n",
       "      <td>21</td>\n",
       "      <td>21.4</td>\n",
       "      <td>21.7</td>\n",
       "      <td>23</td>\n",
       "      <td>24.6</td>\n",
       "      <td>26.1</td>\n",
       "      <td>27.3</td>\n",
       "      <td>28.5</td>\n",
       "      <td>29.7</td>\n",
       "      <td>39.8</td>\n",
       "      <td>41.1</td>\n",
       "      <td>42.4</td>\n",
       "      <td>43.7</td>\n",
       "      <td>45</td>\n",
       "      <td>46.3</td>\n",
       "      <td>47.7</td>\n",
       "    </tr>\n",
       "    <tr>\n",
       "      <td>49</td>\n",
       "      <td>Bahrain</td>\n",
       "      <td>GEN_TOTAL_YOY</td>\n",
       "      <td>5.145</td>\n",
       "      <td>2.301</td>\n",
       "      <td>1.3</td>\n",
       "      <td>6.034</td>\n",
       "      <td>6.625</td>\n",
       "      <td>6.293</td>\n",
       "      <td>4.483</td>\n",
       "      <td>4.684</td>\n",
       "      <td>4.186</td>\n",
       "      <td>33.887</td>\n",
       "      <td>3.192</td>\n",
       "      <td>3.143</td>\n",
       "      <td>3.103</td>\n",
       "      <td>2.994</td>\n",
       "      <td>2.974</td>\n",
       "      <td>2.964</td>\n",
       "    </tr>\n",
       "    <tr>\n",
       "      <td>50</td>\n",
       "      <td>Bahrain</td>\n",
       "      <td>GEN_TOTAL_KWHPP</td>\n",
       "      <td>16889.5</td>\n",
       "      <td>16774</td>\n",
       "      <td>16707.3</td>\n",
       "      <td>17512.2</td>\n",
       "      <td>18378.3</td>\n",
       "      <td>19025.4</td>\n",
       "      <td>19126.3</td>\n",
       "      <td>19107.1</td>\n",
       "      <td>18951</td>\n",
       "      <td>24264.1</td>\n",
       "      <td>24149.8</td>\n",
       "      <td>24243.2</td>\n",
       "      <td>24495.5</td>\n",
       "      <td>24838.8</td>\n",
       "      <td>25219.4</td>\n",
       "      <td>25586.1</td>\n",
       "    </tr>\n",
       "    <tr>\n",
       "      <td>51</td>\n",
       "      <td>Bahrain</td>\n",
       "      <td>GEN_THERMAL_TWH</td>\n",
       "      <td>20.956</td>\n",
       "      <td>21.437</td>\n",
       "      <td>21.718</td>\n",
       "      <td>23.028</td>\n",
       "      <td>24.549</td>\n",
       "      <td>26.094</td>\n",
       "      <td>27.264</td>\n",
       "      <td>28.541</td>\n",
       "      <td>29.736</td>\n",
       "      <td>39.815</td>\n",
       "      <td>41.086</td>\n",
       "      <td>42.377</td>\n",
       "      <td>43.692</td>\n",
       "      <td>45</td>\n",
       "      <td>46.338</td>\n",
       "      <td>47.712</td>\n",
       "    </tr>\n",
       "    <tr>\n",
       "      <td>52</td>\n",
       "      <td>Bahrain</td>\n",
       "      <td>GEN_THERMAL_YOY</td>\n",
       "      <td>5.146</td>\n",
       "      <td>2.298</td>\n",
       "      <td>1.307</td>\n",
       "      <td>6.034</td>\n",
       "      <td>6.604</td>\n",
       "      <td>6.294</td>\n",
       "      <td>4.484</td>\n",
       "      <td>4.684</td>\n",
       "      <td>4.186</td>\n",
       "      <td>33.894</td>\n",
       "      <td>3.193</td>\n",
       "      <td>3.143</td>\n",
       "      <td>3.103</td>\n",
       "      <td>2.994</td>\n",
       "      <td>2.974</td>\n",
       "      <td>2.964</td>\n",
       "    </tr>\n",
       "  </tbody>\n",
       "</table>\n",
       "</div>"
      ],
      "text/plain": [
       "   Country Name   Indicator Name     2010    2011     2012     2013     2014  \\\n",
       "48      Bahrain    GEN_TOTAL_TWH       21    21.4     21.7       23     24.6   \n",
       "49      Bahrain    GEN_TOTAL_YOY    5.145   2.301      1.3    6.034    6.625   \n",
       "50      Bahrain  GEN_TOTAL_KWHPP  16889.5   16774  16707.3  17512.2  18378.3   \n",
       "51      Bahrain  GEN_THERMAL_TWH   20.956  21.437   21.718   23.028   24.549   \n",
       "52      Bahrain  GEN_THERMAL_YOY    5.146   2.298    1.307    6.034    6.604   \n",
       "\n",
       "       2015     2016     2017    2018     2019     2020     2021     2022  \\\n",
       "48     26.1     27.3     28.5    29.7     39.8     41.1     42.4     43.7   \n",
       "49    6.293    4.483    4.684   4.186   33.887    3.192    3.143    3.103   \n",
       "50  19025.4  19126.3  19107.1   18951  24264.1  24149.8  24243.2  24495.5   \n",
       "51   26.094   27.264   28.541  29.736   39.815   41.086   42.377   43.692   \n",
       "52    6.294    4.484    4.684   4.186   33.894    3.193    3.143    3.103   \n",
       "\n",
       "       2023     2024     2025  \n",
       "48       45     46.3     47.7  \n",
       "49    2.994    2.974    2.964  \n",
       "50  24838.8  25219.4  25586.1  \n",
       "51       45   46.338   47.712  \n",
       "52    2.994    2.974    2.964  "
      ]
     },
     "execution_count": 14,
     "metadata": {},
     "output_type": "execute_result"
    }
   ],
   "source": [
    "# Verify indicators abbreviated\n",
    "bmi_df.head()"
   ]
  },
  {
   "cell_type": "markdown",
   "metadata": {},
   "source": [
    "### Append country codes"
   ]
  },
  {
   "cell_type": "code",
   "execution_count": 15,
   "metadata": {},
   "outputs": [],
   "source": [
    "# Identify all countries in BMI data\n",
    "geo = bmi_df['Country Name'].unique()"
   ]
  },
  {
   "cell_type": "code",
   "execution_count": 16,
   "metadata": {},
   "outputs": [],
   "source": [
    "# Create dictionary for all countries that don't have correct alpha-3 codes in pycountry\n",
    "nonfits = {'West Bank and Gaza': 'PSE',\n",
    " 'North Korea':'PRK',\n",
    " 'South Korea':'KOR',\n",
    " 'Cape Verde':'CPV',\n",
    " 'Central African Rep.':'CAF',\n",
    " 'Congo (DRC)':'COD',\n",
    " 'Congo-Brazzaville':'COG',\n",
    " 'Cote d`Ivoire':'CIV',\n",
    " '   Global':'GLOBAL',\n",
    " 'Trinidad & Tobago':'TTO',\n",
    " 'Bosnia-Herzegovina':'BIH',\n",
    " 'Eurozone':'EUROZONE',\n",
    " 'Laos':'LAO',\n",
    " 'Macau':'MAC',\n",
    "'Curacao':'CUW', \n",
    "'Sint Maarten':'ANT',\n",
    "'Niger':'NER',\n",
    "'Kosovo':'RKS'}"
   ]
  },
  {
   "cell_type": "code",
   "execution_count": 17,
   "metadata": {},
   "outputs": [
    {
     "name": "stdout",
     "output_type": "stream",
     "text": [
      "Non Matches:  []\n"
     ]
    }
   ],
   "source": [
    "# Create a consolidated dictionary of country alpha3 codes to accelerate iteration step\n",
    "# Use list(pycountry.countries) to show all countries in library\n",
    "\n",
    "not_in = []\n",
    "geo_lookup = {}\n",
    "for i in geo: \n",
    "    try:\n",
    "        alpha3 = pycountry.countries.search_fuzzy(i)[0].alpha_3\n",
    "        geo_lookup[i] = alpha3\n",
    "    except:\n",
    "        try:\n",
    "            alpha3 = nonfits[i]\n",
    "            geo_lookup[i] = alpha3\n",
    "        except:\n",
    "            not_in.append(i)\n",
    "\n",
    "geo_lookup.update(nonfits)\n",
    "\n",
    "# Report if missing any countries in dictionary\n",
    "print('Non Matches: ', not_in)"
   ]
  },
  {
   "cell_type": "code",
   "execution_count": 18,
   "metadata": {},
   "outputs": [
    {
     "name": "stdout",
     "output_type": "stream",
     "text": [
      "Alpha-3 country encoding progress:\n",
      "| ---------------------------------------------------------------------------------- |\n",
      "  **********************************************************************************"
     ]
    }
   ],
   "source": [
    "# Create Country Code Column in BMI dataframe\n",
    "bmi_df['Country Code'] = ''\n",
    "\n",
    "# Apply country codes using geo_lookup dictionary\n",
    "print('Alpha-3 country encoding progress:')\n",
    "print('|', '-'*int(math.ceil((len(bmi_df) / 100))), '|')\n",
    "print('  ', end='')\n",
    "\n",
    "geo_col = list(bmi_df.columns).index('Country Code')\n",
    "for idx, val in enumerate(bmi_df['Country Name']):\n",
    "    bmi_df.iloc[idx,geo_col] = geo_lookup[val]\n",
    "    if idx % 100 == 0:\n",
    "        print('*',end='')"
   ]
  },
  {
   "cell_type": "code",
   "execution_count": 19,
   "metadata": {},
   "outputs": [
    {
     "data": {
      "text/html": [
       "<div>\n",
       "<style scoped>\n",
       "    .dataframe tbody tr th:only-of-type {\n",
       "        vertical-align: middle;\n",
       "    }\n",
       "\n",
       "    .dataframe tbody tr th {\n",
       "        vertical-align: top;\n",
       "    }\n",
       "\n",
       "    .dataframe thead th {\n",
       "        text-align: right;\n",
       "    }\n",
       "</style>\n",
       "<table border=\"1\" class=\"dataframe\">\n",
       "  <thead>\n",
       "    <tr style=\"text-align: right;\">\n",
       "      <th></th>\n",
       "      <th>Country Name</th>\n",
       "      <th>Indicator Name</th>\n",
       "      <th>2010</th>\n",
       "      <th>2011</th>\n",
       "      <th>2012</th>\n",
       "      <th>2013</th>\n",
       "      <th>2014</th>\n",
       "      <th>2015</th>\n",
       "      <th>2016</th>\n",
       "      <th>2017</th>\n",
       "      <th>2018</th>\n",
       "      <th>2019</th>\n",
       "      <th>2020</th>\n",
       "      <th>2021</th>\n",
       "      <th>2022</th>\n",
       "      <th>2023</th>\n",
       "      <th>2024</th>\n",
       "      <th>2025</th>\n",
       "      <th>Country Code</th>\n",
       "    </tr>\n",
       "  </thead>\n",
       "  <tbody>\n",
       "    <tr>\n",
       "      <td>48</td>\n",
       "      <td>Bahrain</td>\n",
       "      <td>GEN_TOTAL_TWH</td>\n",
       "      <td>21</td>\n",
       "      <td>21.4</td>\n",
       "      <td>21.7</td>\n",
       "      <td>23</td>\n",
       "      <td>24.6</td>\n",
       "      <td>26.1</td>\n",
       "      <td>27.3</td>\n",
       "      <td>28.5</td>\n",
       "      <td>29.7</td>\n",
       "      <td>39.8</td>\n",
       "      <td>41.1</td>\n",
       "      <td>42.4</td>\n",
       "      <td>43.7</td>\n",
       "      <td>45</td>\n",
       "      <td>46.3</td>\n",
       "      <td>47.7</td>\n",
       "      <td>BHR</td>\n",
       "    </tr>\n",
       "    <tr>\n",
       "      <td>49</td>\n",
       "      <td>Bahrain</td>\n",
       "      <td>GEN_TOTAL_YOY</td>\n",
       "      <td>5.145</td>\n",
       "      <td>2.301</td>\n",
       "      <td>1.3</td>\n",
       "      <td>6.034</td>\n",
       "      <td>6.625</td>\n",
       "      <td>6.293</td>\n",
       "      <td>4.483</td>\n",
       "      <td>4.684</td>\n",
       "      <td>4.186</td>\n",
       "      <td>33.887</td>\n",
       "      <td>3.192</td>\n",
       "      <td>3.143</td>\n",
       "      <td>3.103</td>\n",
       "      <td>2.994</td>\n",
       "      <td>2.974</td>\n",
       "      <td>2.964</td>\n",
       "      <td>BHR</td>\n",
       "    </tr>\n",
       "    <tr>\n",
       "      <td>50</td>\n",
       "      <td>Bahrain</td>\n",
       "      <td>GEN_TOTAL_KWHPP</td>\n",
       "      <td>16889.5</td>\n",
       "      <td>16774</td>\n",
       "      <td>16707.3</td>\n",
       "      <td>17512.2</td>\n",
       "      <td>18378.3</td>\n",
       "      <td>19025.4</td>\n",
       "      <td>19126.3</td>\n",
       "      <td>19107.1</td>\n",
       "      <td>18951</td>\n",
       "      <td>24264.1</td>\n",
       "      <td>24149.8</td>\n",
       "      <td>24243.2</td>\n",
       "      <td>24495.5</td>\n",
       "      <td>24838.8</td>\n",
       "      <td>25219.4</td>\n",
       "      <td>25586.1</td>\n",
       "      <td>BHR</td>\n",
       "    </tr>\n",
       "    <tr>\n",
       "      <td>51</td>\n",
       "      <td>Bahrain</td>\n",
       "      <td>GEN_THERMAL_TWH</td>\n",
       "      <td>20.956</td>\n",
       "      <td>21.437</td>\n",
       "      <td>21.718</td>\n",
       "      <td>23.028</td>\n",
       "      <td>24.549</td>\n",
       "      <td>26.094</td>\n",
       "      <td>27.264</td>\n",
       "      <td>28.541</td>\n",
       "      <td>29.736</td>\n",
       "      <td>39.815</td>\n",
       "      <td>41.086</td>\n",
       "      <td>42.377</td>\n",
       "      <td>43.692</td>\n",
       "      <td>45</td>\n",
       "      <td>46.338</td>\n",
       "      <td>47.712</td>\n",
       "      <td>BHR</td>\n",
       "    </tr>\n",
       "    <tr>\n",
       "      <td>52</td>\n",
       "      <td>Bahrain</td>\n",
       "      <td>GEN_THERMAL_YOY</td>\n",
       "      <td>5.146</td>\n",
       "      <td>2.298</td>\n",
       "      <td>1.307</td>\n",
       "      <td>6.034</td>\n",
       "      <td>6.604</td>\n",
       "      <td>6.294</td>\n",
       "      <td>4.484</td>\n",
       "      <td>4.684</td>\n",
       "      <td>4.186</td>\n",
       "      <td>33.894</td>\n",
       "      <td>3.193</td>\n",
       "      <td>3.143</td>\n",
       "      <td>3.103</td>\n",
       "      <td>2.994</td>\n",
       "      <td>2.974</td>\n",
       "      <td>2.964</td>\n",
       "      <td>BHR</td>\n",
       "    </tr>\n",
       "  </tbody>\n",
       "</table>\n",
       "</div>"
      ],
      "text/plain": [
       "   Country Name   Indicator Name     2010    2011     2012     2013     2014  \\\n",
       "48      Bahrain    GEN_TOTAL_TWH       21    21.4     21.7       23     24.6   \n",
       "49      Bahrain    GEN_TOTAL_YOY    5.145   2.301      1.3    6.034    6.625   \n",
       "50      Bahrain  GEN_TOTAL_KWHPP  16889.5   16774  16707.3  17512.2  18378.3   \n",
       "51      Bahrain  GEN_THERMAL_TWH   20.956  21.437   21.718   23.028   24.549   \n",
       "52      Bahrain  GEN_THERMAL_YOY    5.146   2.298    1.307    6.034    6.604   \n",
       "\n",
       "       2015     2016     2017    2018     2019     2020     2021     2022  \\\n",
       "48     26.1     27.3     28.5    29.7     39.8     41.1     42.4     43.7   \n",
       "49    6.293    4.483    4.684   4.186   33.887    3.192    3.143    3.103   \n",
       "50  19025.4  19126.3  19107.1   18951  24264.1  24149.8  24243.2  24495.5   \n",
       "51   26.094   27.264   28.541  29.736   39.815   41.086   42.377   43.692   \n",
       "52    6.294    4.484    4.684   4.186   33.894    3.193    3.143    3.103   \n",
       "\n",
       "       2023     2024     2025 Country Code  \n",
       "48       45     46.3     47.7          BHR  \n",
       "49    2.994    2.974    2.964          BHR  \n",
       "50  24838.8  25219.4  25586.1          BHR  \n",
       "51       45   46.338   47.712          BHR  \n",
       "52    2.994    2.974    2.964          BHR  "
      ]
     },
     "execution_count": 19,
     "metadata": {},
     "output_type": "execute_result"
    }
   ],
   "source": [
    "# Verify country codes added:\n",
    "bmi_df.head()"
   ]
  },
  {
   "cell_type": "markdown",
   "metadata": {},
   "source": [
    "# Process Electricity Access Files"
   ]
  },
  {
   "cell_type": "code",
   "execution_count": 20,
   "metadata": {},
   "outputs": [
    {
     "name": "stdout",
     "output_type": "stream",
     "text": [
      "Processing:  API_EG.ELC.ACCS.RU.ZS_DS2_Access to Electricity Rural.xls\n",
      "Processing:  API_EG.ELC.ACCS.UR.ZS_DS2_Access to Electricity Urban.xls\n",
      "Processing:  API_EG.ELC.ACCS.ZS_DS2_Access to Electricity.xls\n"
     ]
    }
   ],
   "source": [
    "# Read in Electricity Access Data\n",
    "access_df = pd.DataFrame()\n",
    "drop_cols = ['Indicator Code']\n",
    "\n",
    "for f in access_files:\n",
    "    print('Processing: ', f)\n",
    "    path = './Raw Data/' + f\n",
    "    temp_df = pd.read_excel(path, sheet_name='Data', header=3) \n",
    "    temp_df = temp_df.drop(drop_cols, axis=1)\n",
    "    access_df = pd.concat([access_df, temp_df], ignore_index=True, sort=False)\n"
   ]
  },
  {
   "cell_type": "code",
   "execution_count": 21,
   "metadata": {},
   "outputs": [
    {
     "name": "stdout",
     "output_type": "stream",
     "text": [
      "Access DataFrame Shape:  (792, 63)\n",
      "Unique Indicators:  3\n"
     ]
    }
   ],
   "source": [
    "# Display statistics for electricity access dataframe\n",
    "print('Access DataFrame Shape: ', access_df.shape)\n",
    "print('Unique Indicators: ', access_df['Indicator Name'].nunique())"
   ]
  },
  {
   "cell_type": "markdown",
   "metadata": {},
   "source": [
    "### Clean up indicator names"
   ]
  },
  {
   "cell_type": "code",
   "execution_count": 22,
   "metadata": {},
   "outputs": [],
   "source": [
    "# Apply abbreviated indicator names\n",
    "for i in range(len(access_df)):\n",
    "    access_df.iloc[i,2] = list(indicators.loc[access_df.iloc[i,2] == indicators['Indicator Name']]['Abbreviated Name'])[0]\n",
    "    "
   ]
  },
  {
   "cell_type": "code",
   "execution_count": 23,
   "metadata": {},
   "outputs": [],
   "source": [
    "# Drop columns that are too old for scoring system\n",
    "drops = ['1960', '1961', '1962', '1963', '1964', '1965', '1966', '1967', '1968', '1969', '1970',\n",
    "       '1971', '1972', '1973', '1974', '1975', '1976', '1977', '1978', '1979',\n",
    "       '1980', '1981', '1982', '1983', '1984', '1985', '1986', '1987', '1988',\n",
    "       '1989', '1990', '1991', '1992', '1993', '1994', '1995', '1996', '1997',\n",
    "       '1998', '1999', '2000', '2001', '2002', '2003', '2004', '2005', '2006',\n",
    "       '2007', '2008', '2009']\n",
    "\n",
    "access_df = access_df.drop(labels=drops, axis=1)"
   ]
  },
  {
   "cell_type": "markdown",
   "metadata": {},
   "source": [
    "### Append country codes"
   ]
  },
  {
   "cell_type": "code",
   "execution_count": 24,
   "metadata": {},
   "outputs": [],
   "source": [
    "# Identify corrections to the access_df alpha-3 country values\n",
    "a_spec = {'Kosovo':'RKS', \n",
    "          'World':'GLOBAL',\n",
    "         'West Bank and Gaza':'PSE'}"
   ]
  },
  {
   "cell_type": "code",
   "execution_count": 25,
   "metadata": {},
   "outputs": [],
   "source": [
    "# Apply alpha3 corrections to access_df\n",
    "for idx, val in enumerate(access_df['Country Name']):\n",
    "    if val in list(a_spec.keys()):\n",
    "        access_df.iloc[idx,1] = a_spec[val]"
   ]
  },
  {
   "cell_type": "markdown",
   "metadata": {},
   "source": [
    "### Evaluate overlap between Electrictiy Access and BMI datasets"
   ]
  },
  {
   "cell_type": "code",
   "execution_count": 26,
   "metadata": {},
   "outputs": [
    {
     "name": "stdout",
     "output_type": "stream",
     "text": [
      "Values in BMI dataframe but not in Access dataframe:  4\n",
      "Values in Access dataframe but not in BMI dataframe:  65\n"
     ]
    }
   ],
   "source": [
    "# Provide overlap summary\n",
    "bmi_notin_access = list(set(bmi_df['Country Code']) - set(access_df['Country Code']))\n",
    "print('Values in BMI dataframe but not in Access dataframe: ', len(bmi_notin_access))\n",
    "access_notin_bmi = list(set(access_df['Country Code']) - set(bmi_df['Country Code']))\n",
    "print('Values in Access dataframe but not in BMI dataframe: ', len(access_notin_bmi))"
   ]
  },
  {
   "cell_type": "code",
   "execution_count": 27,
   "metadata": {},
   "outputs": [
    {
     "name": "stdout",
     "output_type": "stream",
     "text": [
      "Non-overlapping countries remaining:\n",
      "[]\n",
      "[]\n"
     ]
    }
   ],
   "source": [
    "# Remove non-overlapping countries\n",
    "access_df.drop(access_df[access_df['Country Code'].isin(access_notin_bmi)].index, inplace=True)\n",
    "bmi_df.drop(bmi_df[bmi_df['Country Code'].isin(bmi_notin_access)].index, inplace=True)\n",
    "\n",
    "print('Non-overlapping countries remaining:')\n",
    "print(list(set(access_df['Country Code']) - set(bmi_df['Country Code'])))\n",
    "print(list(set(bmi_df['Country Code']) - set(access_df['Country Code'])))"
   ]
  },
  {
   "cell_type": "markdown",
   "metadata": {},
   "source": [
    "### Select 2016-2018 data\n",
    "\n",
    "Due to several missing values in 2019 column, only go up to 2018."
   ]
  },
  {
   "cell_type": "code",
   "execution_count": 28,
   "metadata": {},
   "outputs": [],
   "source": [
    "access_df = access_df[['Country Name', 'Country Code', 'Indicator Name', '2015', '2016', '2017','2018', '2019']]\n",
    "bmi_df = bmi_df[['Country Name', 'Country Code', 'Indicator Name', '2015', '2016', '2017','2018', '2019']]"
   ]
  },
  {
   "cell_type": "code",
   "execution_count": 29,
   "metadata": {},
   "outputs": [
    {
     "data": {
      "text/html": [
       "<div>\n",
       "<style scoped>\n",
       "    .dataframe tbody tr th:only-of-type {\n",
       "        vertical-align: middle;\n",
       "    }\n",
       "\n",
       "    .dataframe tbody tr th {\n",
       "        vertical-align: top;\n",
       "    }\n",
       "\n",
       "    .dataframe thead th {\n",
       "        text-align: right;\n",
       "    }\n",
       "</style>\n",
       "<table border=\"1\" class=\"dataframe\">\n",
       "  <thead>\n",
       "    <tr style=\"text-align: right;\">\n",
       "      <th></th>\n",
       "      <th>Country Name</th>\n",
       "      <th>Country Code</th>\n",
       "      <th>Indicator Name</th>\n",
       "      <th>2015</th>\n",
       "      <th>2016</th>\n",
       "      <th>2017</th>\n",
       "      <th>2018</th>\n",
       "      <th>2019</th>\n",
       "    </tr>\n",
       "  </thead>\n",
       "  <tbody>\n",
       "    <tr>\n",
       "      <td>0</td>\n",
       "      <td>Aruba</td>\n",
       "      <td>ABW</td>\n",
       "      <td>ACCESS_RURAL_PERC</td>\n",
       "      <td>100.000000</td>\n",
       "      <td>100.00000</td>\n",
       "      <td>100.000000</td>\n",
       "      <td>100.000000</td>\n",
       "      <td>NaN</td>\n",
       "    </tr>\n",
       "    <tr>\n",
       "      <td>1</td>\n",
       "      <td>Afghanistan</td>\n",
       "      <td>AFG</td>\n",
       "      <td>ACCESS_RURAL_PERC</td>\n",
       "      <td>64.573354</td>\n",
       "      <td>97.09936</td>\n",
       "      <td>97.091973</td>\n",
       "      <td>98.272872</td>\n",
       "      <td>NaN</td>\n",
       "    </tr>\n",
       "    <tr>\n",
       "      <td>2</td>\n",
       "      <td>Angola</td>\n",
       "      <td>AGO</td>\n",
       "      <td>ACCESS_RURAL_PERC</td>\n",
       "      <td>3.815070</td>\n",
       "      <td>NaN</td>\n",
       "      <td>NaN</td>\n",
       "      <td>NaN</td>\n",
       "      <td>NaN</td>\n",
       "    </tr>\n",
       "    <tr>\n",
       "      <td>3</td>\n",
       "      <td>Albania</td>\n",
       "      <td>ALB</td>\n",
       "      <td>ACCESS_RURAL_PERC</td>\n",
       "      <td>100.000000</td>\n",
       "      <td>100.00000</td>\n",
       "      <td>100.000000</td>\n",
       "      <td>100.000000</td>\n",
       "      <td>NaN</td>\n",
       "    </tr>\n",
       "    <tr>\n",
       "      <td>6</td>\n",
       "      <td>United Arab Emirates</td>\n",
       "      <td>ARE</td>\n",
       "      <td>ACCESS_RURAL_PERC</td>\n",
       "      <td>100.000000</td>\n",
       "      <td>100.00000</td>\n",
       "      <td>100.000000</td>\n",
       "      <td>100.000000</td>\n",
       "      <td>NaN</td>\n",
       "    </tr>\n",
       "  </tbody>\n",
       "</table>\n",
       "</div>"
      ],
      "text/plain": [
       "           Country Name Country Code     Indicator Name        2015  \\\n",
       "0                 Aruba          ABW  ACCESS_RURAL_PERC  100.000000   \n",
       "1           Afghanistan          AFG  ACCESS_RURAL_PERC   64.573354   \n",
       "2                Angola          AGO  ACCESS_RURAL_PERC    3.815070   \n",
       "3               Albania          ALB  ACCESS_RURAL_PERC  100.000000   \n",
       "6  United Arab Emirates          ARE  ACCESS_RURAL_PERC  100.000000   \n",
       "\n",
       "        2016        2017        2018  2019  \n",
       "0  100.00000  100.000000  100.000000   NaN  \n",
       "1   97.09936   97.091973   98.272872   NaN  \n",
       "2        NaN         NaN         NaN   NaN  \n",
       "3  100.00000  100.000000  100.000000   NaN  \n",
       "6  100.00000  100.000000  100.000000   NaN  "
      ]
     },
     "execution_count": 29,
     "metadata": {},
     "output_type": "execute_result"
    }
   ],
   "source": [
    "# Verify correct format of electricity access dataframe\n",
    "access_df.head()"
   ]
  },
  {
   "cell_type": "code",
   "execution_count": 30,
   "metadata": {},
   "outputs": [
    {
     "data": {
      "text/html": [
       "<div>\n",
       "<style scoped>\n",
       "    .dataframe tbody tr th:only-of-type {\n",
       "        vertical-align: middle;\n",
       "    }\n",
       "\n",
       "    .dataframe tbody tr th {\n",
       "        vertical-align: top;\n",
       "    }\n",
       "\n",
       "    .dataframe thead th {\n",
       "        text-align: right;\n",
       "    }\n",
       "</style>\n",
       "<table border=\"1\" class=\"dataframe\">\n",
       "  <thead>\n",
       "    <tr style=\"text-align: right;\">\n",
       "      <th></th>\n",
       "      <th>Country Name</th>\n",
       "      <th>Country Code</th>\n",
       "      <th>Indicator Name</th>\n",
       "      <th>2015</th>\n",
       "      <th>2016</th>\n",
       "      <th>2017</th>\n",
       "      <th>2018</th>\n",
       "      <th>2019</th>\n",
       "    </tr>\n",
       "  </thead>\n",
       "  <tbody>\n",
       "    <tr>\n",
       "      <td>48</td>\n",
       "      <td>Bahrain</td>\n",
       "      <td>BHR</td>\n",
       "      <td>GEN_TOTAL_TWH</td>\n",
       "      <td>26.1</td>\n",
       "      <td>27.3</td>\n",
       "      <td>28.5</td>\n",
       "      <td>29.7</td>\n",
       "      <td>39.8</td>\n",
       "    </tr>\n",
       "    <tr>\n",
       "      <td>49</td>\n",
       "      <td>Bahrain</td>\n",
       "      <td>BHR</td>\n",
       "      <td>GEN_TOTAL_YOY</td>\n",
       "      <td>6.293</td>\n",
       "      <td>4.483</td>\n",
       "      <td>4.684</td>\n",
       "      <td>4.186</td>\n",
       "      <td>33.887</td>\n",
       "    </tr>\n",
       "    <tr>\n",
       "      <td>50</td>\n",
       "      <td>Bahrain</td>\n",
       "      <td>BHR</td>\n",
       "      <td>GEN_TOTAL_KWHPP</td>\n",
       "      <td>19025.4</td>\n",
       "      <td>19126.3</td>\n",
       "      <td>19107.1</td>\n",
       "      <td>18951</td>\n",
       "      <td>24264.1</td>\n",
       "    </tr>\n",
       "    <tr>\n",
       "      <td>51</td>\n",
       "      <td>Bahrain</td>\n",
       "      <td>BHR</td>\n",
       "      <td>GEN_THERMAL_TWH</td>\n",
       "      <td>26.094</td>\n",
       "      <td>27.264</td>\n",
       "      <td>28.541</td>\n",
       "      <td>29.736</td>\n",
       "      <td>39.815</td>\n",
       "    </tr>\n",
       "    <tr>\n",
       "      <td>52</td>\n",
       "      <td>Bahrain</td>\n",
       "      <td>BHR</td>\n",
       "      <td>GEN_THERMAL_YOY</td>\n",
       "      <td>6.294</td>\n",
       "      <td>4.484</td>\n",
       "      <td>4.684</td>\n",
       "      <td>4.186</td>\n",
       "      <td>33.894</td>\n",
       "    </tr>\n",
       "  </tbody>\n",
       "</table>\n",
       "</div>"
      ],
      "text/plain": [
       "   Country Name Country Code   Indicator Name     2015     2016     2017  \\\n",
       "48      Bahrain          BHR    GEN_TOTAL_TWH     26.1     27.3     28.5   \n",
       "49      Bahrain          BHR    GEN_TOTAL_YOY    6.293    4.483    4.684   \n",
       "50      Bahrain          BHR  GEN_TOTAL_KWHPP  19025.4  19126.3  19107.1   \n",
       "51      Bahrain          BHR  GEN_THERMAL_TWH   26.094   27.264   28.541   \n",
       "52      Bahrain          BHR  GEN_THERMAL_YOY    6.294    4.484    4.684   \n",
       "\n",
       "      2018     2019  \n",
       "48    29.7     39.8  \n",
       "49   4.186   33.887  \n",
       "50   18951  24264.1  \n",
       "51  29.736   39.815  \n",
       "52   4.186   33.894  "
      ]
     },
     "execution_count": 30,
     "metadata": {},
     "output_type": "execute_result"
    }
   ],
   "source": [
    "# Verify correct format of BMI dataframe\n",
    "bmi_df.head()"
   ]
  },
  {
   "cell_type": "markdown",
   "metadata": {},
   "source": [
    "# Process RISE Files"
   ]
  },
  {
   "cell_type": "code",
   "execution_count": 31,
   "metadata": {},
   "outputs": [],
   "source": [
    "# Read in RISE data\n",
    "f = rise_file\n",
    "path = './Raw Data/' + f\n",
    "rise_df = pd.read_excel(path, sheet_name='Overall Scores')\n",
    "sheets = ['Electricity Access', 'Energy Efficiency', 'Renewable Energy']\n",
    "\n",
    "for s in sheets:\n",
    "    temp_df = pd.read_excel(path, sheet_name=s) #, usecols=use_cols)\n",
    "    rise_df = rise_df.merge(temp_df, left_on='Countries', right_on='Countries' )"
   ]
  },
  {
   "cell_type": "markdown",
   "metadata": {},
   "source": [
    "### Clean up RISE indicator names"
   ]
  },
  {
   "cell_type": "code",
   "execution_count": 32,
   "metadata": {},
   "outputs": [],
   "source": [
    "# Apply abbreviated indicator names to RISE dataframe\n",
    "for val_col in rise_df.columns:\n",
    "    rise_df = rise_df.rename(columns={val_col: indicators.loc[indicators['Indicator Name'] == val_col, 'Abbreviated Name'].iloc[0]})\n",
    "    "
   ]
  },
  {
   "cell_type": "code",
   "execution_count": 33,
   "metadata": {},
   "outputs": [
    {
     "data": {
      "text/html": [
       "<div>\n",
       "<style scoped>\n",
       "    .dataframe tbody tr th:only-of-type {\n",
       "        vertical-align: middle;\n",
       "    }\n",
       "\n",
       "    .dataframe tbody tr th {\n",
       "        vertical-align: top;\n",
       "    }\n",
       "\n",
       "    .dataframe thead th {\n",
       "        text-align: right;\n",
       "    }\n",
       "</style>\n",
       "<table border=\"1\" class=\"dataframe\">\n",
       "  <thead>\n",
       "    <tr style=\"text-align: right;\">\n",
       "      <th></th>\n",
       "      <th>Country Name</th>\n",
       "      <th>RISE_ACCESS</th>\n",
       "      <th>RISE_EFFICIENCY</th>\n",
       "      <th>RISE_RENEWABLES</th>\n",
       "      <th>RISE_OVERALL</th>\n",
       "      <th>RISE_EA1</th>\n",
       "      <th>RISE_EA2</th>\n",
       "      <th>RISE_EA3</th>\n",
       "      <th>RISE_EA4</th>\n",
       "      <th>RISE_EA5</th>\n",
       "      <th>...</th>\n",
       "      <th>RISE_EE11</th>\n",
       "      <th>RISE_EE12</th>\n",
       "      <th>RISE_EE13</th>\n",
       "      <th>RISE_RE1</th>\n",
       "      <th>RISE_RE2</th>\n",
       "      <th>RISE_RE3</th>\n",
       "      <th>RISE_RE4</th>\n",
       "      <th>RISE_RE5</th>\n",
       "      <th>RISE_RE6</th>\n",
       "      <th>RISE_RE7</th>\n",
       "    </tr>\n",
       "  </thead>\n",
       "  <tbody>\n",
       "    <tr>\n",
       "      <td>0</td>\n",
       "      <td>East Asia &amp; Pacific</td>\n",
       "      <td>NaN</td>\n",
       "      <td>NaN</td>\n",
       "      <td>NaN</td>\n",
       "      <td>NaN</td>\n",
       "      <td>NaN</td>\n",
       "      <td>NaN</td>\n",
       "      <td>NaN</td>\n",
       "      <td>NaN</td>\n",
       "      <td>NaN</td>\n",
       "      <td>...</td>\n",
       "      <td>NaN</td>\n",
       "      <td>NaN</td>\n",
       "      <td>NaN</td>\n",
       "      <td>NaN</td>\n",
       "      <td>NaN</td>\n",
       "      <td>NaN</td>\n",
       "      <td>NaN</td>\n",
       "      <td>NaN</td>\n",
       "      <td>NaN</td>\n",
       "      <td>NaN</td>\n",
       "    </tr>\n",
       "    <tr>\n",
       "      <td>1</td>\n",
       "      <td>Cambodia</td>\n",
       "      <td>80.25</td>\n",
       "      <td>44.92</td>\n",
       "      <td>41.29</td>\n",
       "      <td>55.49</td>\n",
       "      <td>86.0</td>\n",
       "      <td>33.0</td>\n",
       "      <td>100.0</td>\n",
       "      <td>78.0</td>\n",
       "      <td>100.0</td>\n",
       "      <td>...</td>\n",
       "      <td>0.0</td>\n",
       "      <td>0.0</td>\n",
       "      <td>50.0</td>\n",
       "      <td>100.0</td>\n",
       "      <td>15.0</td>\n",
       "      <td>18.0</td>\n",
       "      <td>0.0</td>\n",
       "      <td>30.0</td>\n",
       "      <td>76.0</td>\n",
       "      <td>50.0</td>\n",
       "    </tr>\n",
       "    <tr>\n",
       "      <td>2</td>\n",
       "      <td>China</td>\n",
       "      <td>100.00</td>\n",
       "      <td>71.00</td>\n",
       "      <td>66.43</td>\n",
       "      <td>79.14</td>\n",
       "      <td>0.0</td>\n",
       "      <td>0.0</td>\n",
       "      <td>0.0</td>\n",
       "      <td>0.0</td>\n",
       "      <td>0.0</td>\n",
       "      <td>...</td>\n",
       "      <td>57.0</td>\n",
       "      <td>33.0</td>\n",
       "      <td>50.0</td>\n",
       "      <td>100.0</td>\n",
       "      <td>71.0</td>\n",
       "      <td>71.0</td>\n",
       "      <td>17.0</td>\n",
       "      <td>79.0</td>\n",
       "      <td>77.0</td>\n",
       "      <td>50.0</td>\n",
       "    </tr>\n",
       "    <tr>\n",
       "      <td>3</td>\n",
       "      <td>Indonesia</td>\n",
       "      <td>67.50</td>\n",
       "      <td>26.15</td>\n",
       "      <td>53.71</td>\n",
       "      <td>49.12</td>\n",
       "      <td>67.0</td>\n",
       "      <td>42.0</td>\n",
       "      <td>67.0</td>\n",
       "      <td>47.0</td>\n",
       "      <td>67.0</td>\n",
       "      <td>...</td>\n",
       "      <td>0.0</td>\n",
       "      <td>0.0</td>\n",
       "      <td>0.0</td>\n",
       "      <td>100.0</td>\n",
       "      <td>66.0</td>\n",
       "      <td>31.0</td>\n",
       "      <td>33.0</td>\n",
       "      <td>13.0</td>\n",
       "      <td>83.0</td>\n",
       "      <td>50.0</td>\n",
       "    </tr>\n",
       "    <tr>\n",
       "      <td>4</td>\n",
       "      <td>Lao PDR</td>\n",
       "      <td>45.50</td>\n",
       "      <td>11.38</td>\n",
       "      <td>30.57</td>\n",
       "      <td>29.15</td>\n",
       "      <td>42.0</td>\n",
       "      <td>33.0</td>\n",
       "      <td>50.0</td>\n",
       "      <td>47.0</td>\n",
       "      <td>44.0</td>\n",
       "      <td>...</td>\n",
       "      <td>0.0</td>\n",
       "      <td>17.0</td>\n",
       "      <td>0.0</td>\n",
       "      <td>100.0</td>\n",
       "      <td>55.0</td>\n",
       "      <td>27.0</td>\n",
       "      <td>8.0</td>\n",
       "      <td>7.0</td>\n",
       "      <td>17.0</td>\n",
       "      <td>0.0</td>\n",
       "    </tr>\n",
       "  </tbody>\n",
       "</table>\n",
       "<p>5 rows × 33 columns</p>\n",
       "</div>"
      ],
      "text/plain": [
       "          Country Name  RISE_ACCESS  RISE_EFFICIENCY  RISE_RENEWABLES  \\\n",
       "0  East Asia & Pacific          NaN              NaN              NaN   \n",
       "1             Cambodia        80.25            44.92            41.29   \n",
       "2                China       100.00            71.00            66.43   \n",
       "3            Indonesia        67.50            26.15            53.71   \n",
       "4              Lao PDR        45.50            11.38            30.57   \n",
       "\n",
       "   RISE_OVERALL  RISE_EA1  RISE_EA2  RISE_EA3  RISE_EA4  RISE_EA5  ...  \\\n",
       "0           NaN       NaN       NaN       NaN       NaN       NaN  ...   \n",
       "1         55.49      86.0      33.0     100.0      78.0     100.0  ...   \n",
       "2         79.14       0.0       0.0       0.0       0.0       0.0  ...   \n",
       "3         49.12      67.0      42.0      67.0      47.0      67.0  ...   \n",
       "4         29.15      42.0      33.0      50.0      47.0      44.0  ...   \n",
       "\n",
       "   RISE_EE11  RISE_EE12  RISE_EE13  RISE_RE1  RISE_RE2  RISE_RE3  RISE_RE4  \\\n",
       "0        NaN        NaN        NaN       NaN       NaN       NaN       NaN   \n",
       "1        0.0        0.0       50.0     100.0      15.0      18.0       0.0   \n",
       "2       57.0       33.0       50.0     100.0      71.0      71.0      17.0   \n",
       "3        0.0        0.0        0.0     100.0      66.0      31.0      33.0   \n",
       "4        0.0       17.0        0.0     100.0      55.0      27.0       8.0   \n",
       "\n",
       "   RISE_RE5  RISE_RE6  RISE_RE7  \n",
       "0       NaN       NaN       NaN  \n",
       "1      30.0      76.0      50.0  \n",
       "2      79.0      77.0      50.0  \n",
       "3      13.0      83.0      50.0  \n",
       "4       7.0      17.0       0.0  \n",
       "\n",
       "[5 rows x 33 columns]"
      ]
     },
     "execution_count": 33,
     "metadata": {},
     "output_type": "execute_result"
    }
   ],
   "source": [
    "# Verify indicator names changed correctly\n",
    "rise_df.head()"
   ]
  },
  {
   "cell_type": "code",
   "execution_count": 34,
   "metadata": {},
   "outputs": [],
   "source": [
    "# Drop region labels\n",
    "rise_df.dropna(subset=['RISE_OVERALL'], inplace=True)"
   ]
  },
  {
   "cell_type": "markdown",
   "metadata": {},
   "source": [
    "### Append country codes"
   ]
  },
  {
   "cell_type": "code",
   "execution_count": 35,
   "metadata": {},
   "outputs": [],
   "source": [
    "# Create alpha-3 country code column\n",
    "rise_df['Country Code'] = ''"
   ]
  },
  {
   "cell_type": "code",
   "execution_count": 36,
   "metadata": {},
   "outputs": [
    {
     "name": "stdout",
     "output_type": "stream",
     "text": [
      "Alpha-3 country encoding progress:\n",
      "| -------------- |\n",
      "  **************\n",
      " Missed countries:  []\n"
     ]
    }
   ],
   "source": [
    "missed = [] # list of countries that didn't have a matching country code\n",
    "# dictionary of incorrect country names/codes\n",
    "catches = {'Lao PDR':'LAO',\n",
    " 'Venezuela, RB':'VEN',\n",
    " 'Egypt, Arab Rep.':'EGY',\n",
    " 'Iran, Islamic Rep.':'IRN',\n",
    " 'Yemen, Rep.':'YEM',\n",
    " 'Korea, Rep.':'KOR',\n",
    " 'Congo, Dem. Rep.': 'COD',\n",
    " 'Congo, Rep.':'COG',\n",
    " 'Niger': 'NER'}\n",
    "\n",
    "print('Alpha-3 country encoding progress:')\n",
    "print('|', '-'*int(math.ceil((len(rise_df) / 10))), '|')\n",
    "print('  ', end='')\n",
    "\n",
    "for idx, val in enumerate(rise_df['Country Name']):\n",
    "    if idx % 10 == 0:\n",
    "        print('*',end='')\n",
    "    try:\n",
    "        alpha3 = pycountry.countries.search_fuzzy(val)[0].alpha_3\n",
    "        rise_df.iloc[idx,-1] = alpha3\n",
    "    except:\n",
    "        try:\n",
    "            alpha3 = catches[val]\n",
    "            rise_df.iloc[idx,-1] = alpha3\n",
    "        except:\n",
    "            missed.append(val)     \n",
    "\n",
    "# one-off correction\n",
    "rise_df.loc[rise_df['Country Name'] == 'Niger','Country Code'] = 'NER'\n",
    "\n",
    "# report if missing any countries\n",
    "print('\\n Missed countries: ', missed)"
   ]
  },
  {
   "cell_type": "code",
   "execution_count": 37,
   "metadata": {},
   "outputs": [
    {
     "data": {
      "text/html": [
       "<div>\n",
       "<style scoped>\n",
       "    .dataframe tbody tr th:only-of-type {\n",
       "        vertical-align: middle;\n",
       "    }\n",
       "\n",
       "    .dataframe tbody tr th {\n",
       "        vertical-align: top;\n",
       "    }\n",
       "\n",
       "    .dataframe thead th {\n",
       "        text-align: right;\n",
       "    }\n",
       "</style>\n",
       "<table border=\"1\" class=\"dataframe\">\n",
       "  <thead>\n",
       "    <tr style=\"text-align: right;\">\n",
       "      <th></th>\n",
       "      <th>Country Name</th>\n",
       "      <th>RISE_ACCESS</th>\n",
       "      <th>RISE_EFFICIENCY</th>\n",
       "      <th>RISE_RENEWABLES</th>\n",
       "      <th>RISE_OVERALL</th>\n",
       "      <th>RISE_EA1</th>\n",
       "      <th>RISE_EA2</th>\n",
       "      <th>RISE_EA3</th>\n",
       "      <th>RISE_EA4</th>\n",
       "      <th>RISE_EA5</th>\n",
       "      <th>...</th>\n",
       "      <th>RISE_EE12</th>\n",
       "      <th>RISE_EE13</th>\n",
       "      <th>RISE_RE1</th>\n",
       "      <th>RISE_RE2</th>\n",
       "      <th>RISE_RE3</th>\n",
       "      <th>RISE_RE4</th>\n",
       "      <th>RISE_RE5</th>\n",
       "      <th>RISE_RE6</th>\n",
       "      <th>RISE_RE7</th>\n",
       "      <th>Country Code</th>\n",
       "    </tr>\n",
       "  </thead>\n",
       "  <tbody>\n",
       "    <tr>\n",
       "      <td>1</td>\n",
       "      <td>Cambodia</td>\n",
       "      <td>80.25</td>\n",
       "      <td>44.92</td>\n",
       "      <td>41.29</td>\n",
       "      <td>55.49</td>\n",
       "      <td>86.0</td>\n",
       "      <td>33.0</td>\n",
       "      <td>100.0</td>\n",
       "      <td>78.0</td>\n",
       "      <td>100.0</td>\n",
       "      <td>...</td>\n",
       "      <td>0.0</td>\n",
       "      <td>50.0</td>\n",
       "      <td>100.0</td>\n",
       "      <td>15.0</td>\n",
       "      <td>18.0</td>\n",
       "      <td>0.0</td>\n",
       "      <td>30.0</td>\n",
       "      <td>76.0</td>\n",
       "      <td>50.0</td>\n",
       "      <td>KHM</td>\n",
       "    </tr>\n",
       "    <tr>\n",
       "      <td>2</td>\n",
       "      <td>China</td>\n",
       "      <td>100.00</td>\n",
       "      <td>71.00</td>\n",
       "      <td>66.43</td>\n",
       "      <td>79.14</td>\n",
       "      <td>0.0</td>\n",
       "      <td>0.0</td>\n",
       "      <td>0.0</td>\n",
       "      <td>0.0</td>\n",
       "      <td>0.0</td>\n",
       "      <td>...</td>\n",
       "      <td>33.0</td>\n",
       "      <td>50.0</td>\n",
       "      <td>100.0</td>\n",
       "      <td>71.0</td>\n",
       "      <td>71.0</td>\n",
       "      <td>17.0</td>\n",
       "      <td>79.0</td>\n",
       "      <td>77.0</td>\n",
       "      <td>50.0</td>\n",
       "      <td>CHN</td>\n",
       "    </tr>\n",
       "    <tr>\n",
       "      <td>3</td>\n",
       "      <td>Indonesia</td>\n",
       "      <td>67.50</td>\n",
       "      <td>26.15</td>\n",
       "      <td>53.71</td>\n",
       "      <td>49.12</td>\n",
       "      <td>67.0</td>\n",
       "      <td>42.0</td>\n",
       "      <td>67.0</td>\n",
       "      <td>47.0</td>\n",
       "      <td>67.0</td>\n",
       "      <td>...</td>\n",
       "      <td>0.0</td>\n",
       "      <td>0.0</td>\n",
       "      <td>100.0</td>\n",
       "      <td>66.0</td>\n",
       "      <td>31.0</td>\n",
       "      <td>33.0</td>\n",
       "      <td>13.0</td>\n",
       "      <td>83.0</td>\n",
       "      <td>50.0</td>\n",
       "      <td>IDN</td>\n",
       "    </tr>\n",
       "    <tr>\n",
       "      <td>4</td>\n",
       "      <td>Lao PDR</td>\n",
       "      <td>45.50</td>\n",
       "      <td>11.38</td>\n",
       "      <td>30.57</td>\n",
       "      <td>29.15</td>\n",
       "      <td>42.0</td>\n",
       "      <td>33.0</td>\n",
       "      <td>50.0</td>\n",
       "      <td>47.0</td>\n",
       "      <td>44.0</td>\n",
       "      <td>...</td>\n",
       "      <td>17.0</td>\n",
       "      <td>0.0</td>\n",
       "      <td>100.0</td>\n",
       "      <td>55.0</td>\n",
       "      <td>27.0</td>\n",
       "      <td>8.0</td>\n",
       "      <td>7.0</td>\n",
       "      <td>17.0</td>\n",
       "      <td>0.0</td>\n",
       "      <td>LAO</td>\n",
       "    </tr>\n",
       "    <tr>\n",
       "      <td>5</td>\n",
       "      <td>Malaysia</td>\n",
       "      <td>100.00</td>\n",
       "      <td>56.46</td>\n",
       "      <td>57.71</td>\n",
       "      <td>71.39</td>\n",
       "      <td>0.0</td>\n",
       "      <td>0.0</td>\n",
       "      <td>0.0</td>\n",
       "      <td>0.0</td>\n",
       "      <td>0.0</td>\n",
       "      <td>...</td>\n",
       "      <td>50.0</td>\n",
       "      <td>0.0</td>\n",
       "      <td>100.0</td>\n",
       "      <td>71.0</td>\n",
       "      <td>70.0</td>\n",
       "      <td>58.0</td>\n",
       "      <td>32.0</td>\n",
       "      <td>73.0</td>\n",
       "      <td>0.0</td>\n",
       "      <td>MYS</td>\n",
       "    </tr>\n",
       "  </tbody>\n",
       "</table>\n",
       "<p>5 rows × 34 columns</p>\n",
       "</div>"
      ],
      "text/plain": [
       "  Country Name  RISE_ACCESS  RISE_EFFICIENCY  RISE_RENEWABLES  RISE_OVERALL  \\\n",
       "1     Cambodia        80.25            44.92            41.29         55.49   \n",
       "2        China       100.00            71.00            66.43         79.14   \n",
       "3    Indonesia        67.50            26.15            53.71         49.12   \n",
       "4      Lao PDR        45.50            11.38            30.57         29.15   \n",
       "5     Malaysia       100.00            56.46            57.71         71.39   \n",
       "\n",
       "   RISE_EA1  RISE_EA2  RISE_EA3  RISE_EA4  RISE_EA5  ...  RISE_EE12  \\\n",
       "1      86.0      33.0     100.0      78.0     100.0  ...        0.0   \n",
       "2       0.0       0.0       0.0       0.0       0.0  ...       33.0   \n",
       "3      67.0      42.0      67.0      47.0      67.0  ...        0.0   \n",
       "4      42.0      33.0      50.0      47.0      44.0  ...       17.0   \n",
       "5       0.0       0.0       0.0       0.0       0.0  ...       50.0   \n",
       "\n",
       "   RISE_EE13  RISE_RE1  RISE_RE2  RISE_RE3  RISE_RE4  RISE_RE5  RISE_RE6  \\\n",
       "1       50.0     100.0      15.0      18.0       0.0      30.0      76.0   \n",
       "2       50.0     100.0      71.0      71.0      17.0      79.0      77.0   \n",
       "3        0.0     100.0      66.0      31.0      33.0      13.0      83.0   \n",
       "4        0.0     100.0      55.0      27.0       8.0       7.0      17.0   \n",
       "5        0.0     100.0      71.0      70.0      58.0      32.0      73.0   \n",
       "\n",
       "   RISE_RE7  Country Code  \n",
       "1      50.0           KHM  \n",
       "2      50.0           CHN  \n",
       "3      50.0           IDN  \n",
       "4       0.0           LAO  \n",
       "5       0.0           MYS  \n",
       "\n",
       "[5 rows x 34 columns]"
      ]
     },
     "execution_count": 37,
     "metadata": {},
     "output_type": "execute_result"
    }
   ],
   "source": [
    "# Verify country code column\n",
    "rise_df.head()"
   ]
  },
  {
   "cell_type": "markdown",
   "metadata": {},
   "source": [
    "### Melt rise data for consistency with previous data formats"
   ]
  },
  {
   "cell_type": "code",
   "execution_count": 38,
   "metadata": {},
   "outputs": [],
   "source": [
    "# Store all electricity access data in 2017 column\n",
    "rise_df = pd.melt(rise_df, id_vars=['Country Name', 'Country Code'], var_name='Indicator Name', value_name='2017')\n",
    "rise_df.sort_values(by=['Country Code'], inplace=True)"
   ]
  },
  {
   "cell_type": "code",
   "execution_count": 39,
   "metadata": {},
   "outputs": [
    {
     "data": {
      "text/html": [
       "<div>\n",
       "<style scoped>\n",
       "    .dataframe tbody tr th:only-of-type {\n",
       "        vertical-align: middle;\n",
       "    }\n",
       "\n",
       "    .dataframe tbody tr th {\n",
       "        vertical-align: top;\n",
       "    }\n",
       "\n",
       "    .dataframe thead th {\n",
       "        text-align: right;\n",
       "    }\n",
       "</style>\n",
       "<table border=\"1\" class=\"dataframe\">\n",
       "  <thead>\n",
       "    <tr style=\"text-align: right;\">\n",
       "      <th></th>\n",
       "      <th>Country Name</th>\n",
       "      <th>Country Code</th>\n",
       "      <th>Indicator Name</th>\n",
       "      <th>2017</th>\n",
       "    </tr>\n",
       "  </thead>\n",
       "  <tbody>\n",
       "    <tr>\n",
       "      <td>3522</td>\n",
       "      <td>Afghanistan</td>\n",
       "      <td>AFG</td>\n",
       "      <td>RISE_RE2</td>\n",
       "      <td>12.00</td>\n",
       "    </tr>\n",
       "    <tr>\n",
       "      <td>486</td>\n",
       "      <td>Afghanistan</td>\n",
       "      <td>AFG</td>\n",
       "      <td>RISE_OVERALL</td>\n",
       "      <td>24.47</td>\n",
       "    </tr>\n",
       "    <tr>\n",
       "      <td>1542</td>\n",
       "      <td>Afghanistan</td>\n",
       "      <td>AFG</td>\n",
       "      <td>RISE_EA8</td>\n",
       "      <td>77.00</td>\n",
       "    </tr>\n",
       "    <tr>\n",
       "      <td>3654</td>\n",
       "      <td>Afghanistan</td>\n",
       "      <td>AFG</td>\n",
       "      <td>RISE_RE3</td>\n",
       "      <td>13.00</td>\n",
       "    </tr>\n",
       "    <tr>\n",
       "      <td>2598</td>\n",
       "      <td>Afghanistan</td>\n",
       "      <td>AFG</td>\n",
       "      <td>RISE_EE8</td>\n",
       "      <td>0.00</td>\n",
       "    </tr>\n",
       "  </tbody>\n",
       "</table>\n",
       "</div>"
      ],
      "text/plain": [
       "     Country Name Country Code Indicator Name   2017\n",
       "3522  Afghanistan          AFG       RISE_RE2  12.00\n",
       "486   Afghanistan          AFG   RISE_OVERALL  24.47\n",
       "1542  Afghanistan          AFG       RISE_EA8  77.00\n",
       "3654  Afghanistan          AFG       RISE_RE3  13.00\n",
       "2598  Afghanistan          AFG       RISE_EE8   0.00"
      ]
     },
     "execution_count": 39,
     "metadata": {},
     "output_type": "execute_result"
    }
   ],
   "source": [
    "# Verify RISE dataframe melted correctly\n",
    "rise_df.head()"
   ]
  },
  {
   "cell_type": "markdown",
   "metadata": {},
   "source": [
    "# Process Survey File"
   ]
  },
  {
   "cell_type": "code",
   "execution_count": 40,
   "metadata": {},
   "outputs": [],
   "source": [
    "# Read in survey data\n",
    "f = survey_file\n",
    "path = './Raw Data/' + f\n",
    "survey_df = pd.read_excel(path, sheet_name='Sheet1')\n",
    "survey_df_lookup = pd.read_excel(path, sheet_name='Sheet2')\n",
    "survey_df.drop(list(range(8)), inplace=True) # first 8 rows are not valid countries"
   ]
  },
  {
   "cell_type": "markdown",
   "metadata": {},
   "source": [
    "### Append country codes"
   ]
  },
  {
   "cell_type": "code",
   "execution_count": 41,
   "metadata": {},
   "outputs": [],
   "source": [
    "survey_df.columns = list(survey_df_lookup['New Name']) # fix survey column naming\n",
    "\n",
    "# Create alpha-3 country codes\n",
    "survey_df['Country Code'] = ''\n",
    "col_names = survey_df.columns\n",
    "survey_df = survey_df[[col_names[0]] + [col_names[-1]] + list(col_names[1:-1])]"
   ]
  },
  {
   "cell_type": "code",
   "execution_count": 42,
   "metadata": {},
   "outputs": [
    {
     "name": "stdout",
     "output_type": "stream",
     "text": [
      "Alpha-3 country encoding progress:\n",
      "| --------------- |\n",
      "  ***************\n",
      " Missed countries:  []\n"
     ]
    }
   ],
   "source": [
    "missed = [] # list of countries that don't have a valid alpha-3 code\n",
    "# dictionary of countries that don't have a valid country name\n",
    "catches = {\n",
    "    'Congo, Dem. Rep.':'COD', \n",
    "    'Congo, Rep.':'COG', \n",
    "    'Lao PDR':'LAO', \n",
    "    'St. Kitts and Nevis':'KNA', \n",
    "    'St. Lucia':'LCA', \n",
    "    'St. Vincent and the Grenadines':'VCT', \n",
    "    'West Bank and Gaza':'PSE'\n",
    "}\n",
    "\n",
    "print('Alpha-3 country encoding progress:')\n",
    "print('|', '-'*int(math.ceil((len(survey_df) / 10))), '|')\n",
    "print('  ', end='')\n",
    "\n",
    "for idx, val in enumerate(survey_df['Country Name']):\n",
    "    if idx % 10 == 0:\n",
    "        print('*',end='')\n",
    "    try:\n",
    "        alpha3 = pycountry.countries.search_fuzzy(val)[0].alpha_3\n",
    "        survey_df.iloc[idx,1] = alpha3\n",
    "    except:\n",
    "        try:\n",
    "            alpha3 = catches[val]\n",
    "            survey_df.iloc[idx,1] = alpha3\n",
    "        except:\n",
    "            missed.append(val)     \n",
    "\n",
    "# One-off corrections:\n",
    "survey_df.loc[survey_df['Country Name'] == 'Niger','Country Code'] = 'NER'\n",
    "survey_df.loc[survey_df['Country Name'] == 'Nigeria','Country Code'] = 'NGA'\n",
    "survey_df.loc[survey_df['Country Name'] == 'Kosovo','Country Code'] = 'RKS'\n",
    "\n",
    "print('\\n Missed countries: ', missed)"
   ]
  },
  {
   "cell_type": "code",
   "execution_count": 43,
   "metadata": {},
   "outputs": [
    {
     "data": {
      "text/html": [
       "<div>\n",
       "<style scoped>\n",
       "    .dataframe tbody tr th:only-of-type {\n",
       "        vertical-align: middle;\n",
       "    }\n",
       "\n",
       "    .dataframe tbody tr th {\n",
       "        vertical-align: top;\n",
       "    }\n",
       "\n",
       "    .dataframe thead th {\n",
       "        text-align: right;\n",
       "    }\n",
       "</style>\n",
       "<table border=\"1\" class=\"dataframe\">\n",
       "  <thead>\n",
       "    <tr style=\"text-align: right;\">\n",
       "      <th></th>\n",
       "      <th>Country Name</th>\n",
       "      <th>Country Code</th>\n",
       "      <th>SURV_OUTAGE_PERC</th>\n",
       "      <th>SURV_OUTAGE_QTY</th>\n",
       "      <th>SURV_OUTAGE_DUR</th>\n",
       "      <th>SURV_OUTAGE_LOSS_PERC</th>\n",
       "      <th>SURV_GEN</th>\n",
       "      <th>SURV_GEN_USE</th>\n",
       "      <th>SURV_ELEC_CONNECT</th>\n",
       "      <th>SURV_ELEC_CONSTRAINT</th>\n",
       "      <th>SURV_WATER_PERC</th>\n",
       "      <th>SURV_WATER_QTY</th>\n",
       "      <th>SURV_SHIP</th>\n",
       "      <th>SURV_TRANS</th>\n",
       "    </tr>\n",
       "  </thead>\n",
       "  <tbody>\n",
       "    <tr>\n",
       "      <td>8</td>\n",
       "      <td>Afghanistan</td>\n",
       "      <td>AFG</td>\n",
       "      <td>70.4</td>\n",
       "      <td>11.5</td>\n",
       "      <td>3.8</td>\n",
       "      <td>9.6</td>\n",
       "      <td>48.0</td>\n",
       "      <td>38.3</td>\n",
       "      <td>111.3</td>\n",
       "      <td>65.8</td>\n",
       "      <td>8.9</td>\n",
       "      <td>0.9</td>\n",
       "      <td>1.7</td>\n",
       "      <td>42.1</td>\n",
       "    </tr>\n",
       "    <tr>\n",
       "      <td>9</td>\n",
       "      <td>Albania</td>\n",
       "      <td>ALB</td>\n",
       "      <td>58.7</td>\n",
       "      <td>1.5</td>\n",
       "      <td>1.3</td>\n",
       "      <td>1.9</td>\n",
       "      <td>49.4</td>\n",
       "      <td>11.9</td>\n",
       "      <td>18.6</td>\n",
       "      <td>43.0</td>\n",
       "      <td>10.8</td>\n",
       "      <td>0.1</td>\n",
       "      <td>1.4</td>\n",
       "      <td>10.7</td>\n",
       "    </tr>\n",
       "    <tr>\n",
       "      <td>10</td>\n",
       "      <td>Angola</td>\n",
       "      <td>AGO</td>\n",
       "      <td>87.7</td>\n",
       "      <td>4.7</td>\n",
       "      <td>13.5</td>\n",
       "      <td>12.6</td>\n",
       "      <td>79.0</td>\n",
       "      <td>27.3</td>\n",
       "      <td>7.7</td>\n",
       "      <td>35.7</td>\n",
       "      <td>46.1</td>\n",
       "      <td>2.4</td>\n",
       "      <td>3.3</td>\n",
       "      <td>25.3</td>\n",
       "    </tr>\n",
       "    <tr>\n",
       "      <td>11</td>\n",
       "      <td>Antigua and Barbuda</td>\n",
       "      <td>ATG</td>\n",
       "      <td>95.5</td>\n",
       "      <td>2.8</td>\n",
       "      <td>2.2</td>\n",
       "      <td>0.2</td>\n",
       "      <td>22.4</td>\n",
       "      <td>3.3</td>\n",
       "      <td>6.7</td>\n",
       "      <td>45.1</td>\n",
       "      <td>3.0</td>\n",
       "      <td>0.0</td>\n",
       "      <td>NaN</td>\n",
       "      <td>24.4</td>\n",
       "    </tr>\n",
       "    <tr>\n",
       "      <td>12</td>\n",
       "      <td>Argentina</td>\n",
       "      <td>ARG</td>\n",
       "      <td>65.1</td>\n",
       "      <td>0.8</td>\n",
       "      <td>5.2</td>\n",
       "      <td>0.8</td>\n",
       "      <td>17.8</td>\n",
       "      <td>3.5</td>\n",
       "      <td>53.5</td>\n",
       "      <td>47.2</td>\n",
       "      <td>10.4</td>\n",
       "      <td>0.2</td>\n",
       "      <td>0.6</td>\n",
       "      <td>22.8</td>\n",
       "    </tr>\n",
       "  </tbody>\n",
       "</table>\n",
       "</div>"
      ],
      "text/plain": [
       "           Country Name Country Code  SURV_OUTAGE_PERC  SURV_OUTAGE_QTY  \\\n",
       "8           Afghanistan          AFG              70.4             11.5   \n",
       "9               Albania          ALB              58.7              1.5   \n",
       "10               Angola          AGO              87.7              4.7   \n",
       "11  Antigua and Barbuda          ATG              95.5              2.8   \n",
       "12            Argentina          ARG              65.1              0.8   \n",
       "\n",
       "    SURV_OUTAGE_DUR  SURV_OUTAGE_LOSS_PERC  SURV_GEN  SURV_GEN_USE  \\\n",
       "8               3.8                    9.6      48.0          38.3   \n",
       "9               1.3                    1.9      49.4          11.9   \n",
       "10             13.5                   12.6      79.0          27.3   \n",
       "11              2.2                    0.2      22.4           3.3   \n",
       "12              5.2                    0.8      17.8           3.5   \n",
       "\n",
       "    SURV_ELEC_CONNECT  SURV_ELEC_CONSTRAINT  SURV_WATER_PERC  SURV_WATER_QTY  \\\n",
       "8               111.3                  65.8              8.9             0.9   \n",
       "9                18.6                  43.0             10.8             0.1   \n",
       "10                7.7                  35.7             46.1             2.4   \n",
       "11                6.7                  45.1              3.0             0.0   \n",
       "12               53.5                  47.2             10.4             0.2   \n",
       "\n",
       "    SURV_SHIP  SURV_TRANS  \n",
       "8         1.7        42.1  \n",
       "9         1.4        10.7  \n",
       "10        3.3        25.3  \n",
       "11        NaN        24.4  \n",
       "12        0.6        22.8  "
      ]
     },
     "execution_count": 43,
     "metadata": {},
     "output_type": "execute_result"
    }
   ],
   "source": [
    "# Verify country codes applied correctly\n",
    "survey_df.head()"
   ]
  },
  {
   "cell_type": "markdown",
   "metadata": {},
   "source": [
    "### Melt survey data for consistency with previous data formats"
   ]
  },
  {
   "cell_type": "code",
   "execution_count": 44,
   "metadata": {},
   "outputs": [],
   "source": [
    "# Store all electricity access data in 2017 column\n",
    "survey_df = pd.melt(survey_df, id_vars=['Country Name', 'Country Code'], var_name='Indicator Name', value_name='2017')\n",
    "survey_df.sort_values(by=['Country Code'], inplace=True)"
   ]
  },
  {
   "cell_type": "code",
   "execution_count": 45,
   "metadata": {},
   "outputs": [
    {
     "data": {
      "text/html": [
       "<div>\n",
       "<style scoped>\n",
       "    .dataframe tbody tr th:only-of-type {\n",
       "        vertical-align: middle;\n",
       "    }\n",
       "\n",
       "    .dataframe tbody tr th {\n",
       "        vertical-align: top;\n",
       "    }\n",
       "\n",
       "    .dataframe thead th {\n",
       "        text-align: right;\n",
       "    }\n",
       "</style>\n",
       "<table border=\"1\" class=\"dataframe\">\n",
       "  <thead>\n",
       "    <tr style=\"text-align: right;\">\n",
       "      <th></th>\n",
       "      <th>Country Name</th>\n",
       "      <th>Country Code</th>\n",
       "      <th>Indicator Name</th>\n",
       "      <th>2017</th>\n",
       "    </tr>\n",
       "  </thead>\n",
       "  <tbody>\n",
       "    <tr>\n",
       "      <td>0</td>\n",
       "      <td>Afghanistan</td>\n",
       "      <td>AFG</td>\n",
       "      <td>SURV_OUTAGE_PERC</td>\n",
       "      <td>70.4</td>\n",
       "    </tr>\n",
       "    <tr>\n",
       "      <td>720</td>\n",
       "      <td>Afghanistan</td>\n",
       "      <td>AFG</td>\n",
       "      <td>SURV_GEN_USE</td>\n",
       "      <td>38.3</td>\n",
       "    </tr>\n",
       "    <tr>\n",
       "      <td>432</td>\n",
       "      <td>Afghanistan</td>\n",
       "      <td>AFG</td>\n",
       "      <td>SURV_OUTAGE_LOSS_PERC</td>\n",
       "      <td>9.6</td>\n",
       "    </tr>\n",
       "    <tr>\n",
       "      <td>864</td>\n",
       "      <td>Afghanistan</td>\n",
       "      <td>AFG</td>\n",
       "      <td>SURV_ELEC_CONNECT</td>\n",
       "      <td>111.3</td>\n",
       "    </tr>\n",
       "    <tr>\n",
       "      <td>1008</td>\n",
       "      <td>Afghanistan</td>\n",
       "      <td>AFG</td>\n",
       "      <td>SURV_ELEC_CONSTRAINT</td>\n",
       "      <td>65.8</td>\n",
       "    </tr>\n",
       "  </tbody>\n",
       "</table>\n",
       "</div>"
      ],
      "text/plain": [
       "     Country Name Country Code         Indicator Name   2017\n",
       "0     Afghanistan          AFG       SURV_OUTAGE_PERC   70.4\n",
       "720   Afghanistan          AFG           SURV_GEN_USE   38.3\n",
       "432   Afghanistan          AFG  SURV_OUTAGE_LOSS_PERC    9.6\n",
       "864   Afghanistan          AFG      SURV_ELEC_CONNECT  111.3\n",
       "1008  Afghanistan          AFG   SURV_ELEC_CONSTRAINT   65.8"
      ]
     },
     "execution_count": 45,
     "metadata": {},
     "output_type": "execute_result"
    }
   ],
   "source": [
    "# verify survey dataframe melted correctly\n",
    "survey_df.head()"
   ]
  },
  {
   "cell_type": "markdown",
   "metadata": {},
   "source": [
    "# Process CO2 File"
   ]
  },
  {
   "cell_type": "code",
   "execution_count": 46,
   "metadata": {},
   "outputs": [],
   "source": [
    "# Read in data\n",
    "path = './Raw Data/' + co2_file\n",
    "co2_df = pd.read_excel(path, sheet_name='Data', header=3, usecols=['Country Code', '2014'])\n",
    "co2_df = co2_df.rename(columns={'2014':'CO2_EMISS_TONSPP'})\n",
    "\n",
    "# Melt data into 2017 column\n",
    "co2_df = pd.melt(co2_df, id_vars='Country Code', var_name='Indicator Name', value_name='2017')"
   ]
  },
  {
   "cell_type": "code",
   "execution_count": 47,
   "metadata": {},
   "outputs": [
    {
     "data": {
      "text/html": [
       "<div>\n",
       "<style scoped>\n",
       "    .dataframe tbody tr th:only-of-type {\n",
       "        vertical-align: middle;\n",
       "    }\n",
       "\n",
       "    .dataframe tbody tr th {\n",
       "        vertical-align: top;\n",
       "    }\n",
       "\n",
       "    .dataframe thead th {\n",
       "        text-align: right;\n",
       "    }\n",
       "</style>\n",
       "<table border=\"1\" class=\"dataframe\">\n",
       "  <thead>\n",
       "    <tr style=\"text-align: right;\">\n",
       "      <th></th>\n",
       "      <th>Country Code</th>\n",
       "      <th>Indicator Name</th>\n",
       "      <th>2017</th>\n",
       "    </tr>\n",
       "  </thead>\n",
       "  <tbody>\n",
       "    <tr>\n",
       "      <td>0</td>\n",
       "      <td>ABW</td>\n",
       "      <td>CO2_EMISS_TONSPP</td>\n",
       "      <td>8.410064</td>\n",
       "    </tr>\n",
       "    <tr>\n",
       "      <td>1</td>\n",
       "      <td>AFG</td>\n",
       "      <td>CO2_EMISS_TONSPP</td>\n",
       "      <td>0.293946</td>\n",
       "    </tr>\n",
       "    <tr>\n",
       "      <td>2</td>\n",
       "      <td>AGO</td>\n",
       "      <td>CO2_EMISS_TONSPP</td>\n",
       "      <td>1.290307</td>\n",
       "    </tr>\n",
       "    <tr>\n",
       "      <td>3</td>\n",
       "      <td>ALB</td>\n",
       "      <td>CO2_EMISS_TONSPP</td>\n",
       "      <td>1.978763</td>\n",
       "    </tr>\n",
       "    <tr>\n",
       "      <td>4</td>\n",
       "      <td>AND</td>\n",
       "      <td>CO2_EMISS_TONSPP</td>\n",
       "      <td>5.832906</td>\n",
       "    </tr>\n",
       "    <tr>\n",
       "      <td>...</td>\n",
       "      <td>...</td>\n",
       "      <td>...</td>\n",
       "      <td>...</td>\n",
       "    </tr>\n",
       "    <tr>\n",
       "      <td>259</td>\n",
       "      <td>XKX</td>\n",
       "      <td>CO2_EMISS_TONSPP</td>\n",
       "      <td>NaN</td>\n",
       "    </tr>\n",
       "    <tr>\n",
       "      <td>260</td>\n",
       "      <td>YEM</td>\n",
       "      <td>CO2_EMISS_TONSPP</td>\n",
       "      <td>0.878996</td>\n",
       "    </tr>\n",
       "    <tr>\n",
       "      <td>261</td>\n",
       "      <td>ZAF</td>\n",
       "      <td>CO2_EMISS_TONSPP</td>\n",
       "      <td>8.979062</td>\n",
       "    </tr>\n",
       "    <tr>\n",
       "      <td>262</td>\n",
       "      <td>ZMB</td>\n",
       "      <td>CO2_EMISS_TONSPP</td>\n",
       "      <td>0.292412</td>\n",
       "    </tr>\n",
       "    <tr>\n",
       "      <td>263</td>\n",
       "      <td>ZWE</td>\n",
       "      <td>CO2_EMISS_TONSPP</td>\n",
       "      <td>0.884721</td>\n",
       "    </tr>\n",
       "  </tbody>\n",
       "</table>\n",
       "<p>264 rows × 3 columns</p>\n",
       "</div>"
      ],
      "text/plain": [
       "    Country Code    Indicator Name      2017\n",
       "0            ABW  CO2_EMISS_TONSPP  8.410064\n",
       "1            AFG  CO2_EMISS_TONSPP  0.293946\n",
       "2            AGO  CO2_EMISS_TONSPP  1.290307\n",
       "3            ALB  CO2_EMISS_TONSPP  1.978763\n",
       "4            AND  CO2_EMISS_TONSPP  5.832906\n",
       "..           ...               ...       ...\n",
       "259          XKX  CO2_EMISS_TONSPP       NaN\n",
       "260          YEM  CO2_EMISS_TONSPP  0.878996\n",
       "261          ZAF  CO2_EMISS_TONSPP  8.979062\n",
       "262          ZMB  CO2_EMISS_TONSPP  0.292412\n",
       "263          ZWE  CO2_EMISS_TONSPP  0.884721\n",
       "\n",
       "[264 rows x 3 columns]"
      ]
     },
     "execution_count": 47,
     "metadata": {},
     "output_type": "execute_result"
    }
   ],
   "source": [
    "# Verify CO2 dataframe in correct format\n",
    "co2_df"
   ]
  },
  {
   "cell_type": "markdown",
   "metadata": {},
   "source": [
    "# Process Market Potential File"
   ]
  },
  {
   "cell_type": "code",
   "execution_count": 48,
   "metadata": {},
   "outputs": [],
   "source": [
    "# Read in data\n",
    "path = './Raw Data/' + mktpot_file\n",
    "mktpot_df = pd.read_excel(path, sheet_name='Market Potential')\n",
    "\n",
    "# Melt data into 2017 column\n",
    "mktpot_df = pd.melt(mktpot_df, id_vars='Country Code', var_name='Indicator Name', value_name='2017')"
   ]
  },
  {
   "cell_type": "markdown",
   "metadata": {},
   "source": [
    "# Create the Consolidated Dataframe\n",
    "\n",
    "1. Check for duplicate countries\n",
    "2. Check datatypes for each column\n",
    "3. Check for NaNs in each df\n",
    "4. Create consolidated dataframe\n"
   ]
  },
  {
   "cell_type": "markdown",
   "metadata": {},
   "source": [
    "### Check for duplicate countries"
   ]
  },
  {
   "cell_type": "code",
   "execution_count": 49,
   "metadata": {},
   "outputs": [
    {
     "name": "stdout",
     "output_type": "stream",
     "text": [
      "BMI No Duplicates:  True\n",
      "Electricity Access No Duplicates:  True\n",
      "RISE No Duplicates:  True\n",
      "Survey Data No Duplicates:  True\n",
      "Market Potential No Duplicates:  True\n",
      "CO2 Data No Duplicates:  True\n"
     ]
    }
   ],
   "source": [
    "print('BMI No Duplicates: ', bmi_df['Country Code'].nunique() == bmi_df['Country Name'].nunique())\n",
    "print('Electricity Access No Duplicates: ', access_df['Country Code'].nunique() == access_df['Country Name'].nunique())\n",
    "print('RISE No Duplicates: ', rise_df['Country Name'].nunique() == rise_df['Country Code'].nunique())\n",
    "print('Survey Data No Duplicates: ', survey_df['Country Code'].nunique() == survey_df['Country Name'].nunique())\n",
    "print('Market Potential No Duplicates: ', mktpot_df['Country Code'].nunique() == len(mktpot_df))\n",
    "print('CO2 Data No Duplicates: ', co2_df['Country Code'].nunique() == len(co2_df))"
   ]
  },
  {
   "cell_type": "markdown",
   "metadata": {},
   "source": [
    "### Create consolidated df"
   ]
  },
  {
   "cell_type": "code",
   "execution_count": 50,
   "metadata": {},
   "outputs": [],
   "source": [
    "# Label data sources as a new column in each dataset\n",
    "bmi_df['Source'] = 'BMI'\n",
    "access_df['Source'] = 'ACCESS'\n",
    "rise_df['Source'] = 'RISE'\n",
    "survey_df['Source'] = 'SURVEY'\n",
    "mktpot_df['Source'] = 'ICON'\n",
    "co2_df['Source'] = 'BMI'"
   ]
  },
  {
   "cell_type": "code",
   "execution_count": 51,
   "metadata": {},
   "outputs": [],
   "source": [
    "df = pd.concat([bmi_df, access_df, rise_df, survey_df, mktpot_df, co2_df], sort=True)\n",
    "\n",
    "# rearrange df\n",
    "df = df[['Country Name', 'Country Code', 'Indicator Name', 'Source','2015', '2016', '2017','2018', '2019']]\n",
    "\n",
    "# sort alphabetically by country code\n",
    "df.sort_values(by=['Country Code'], inplace=True)\n",
    "\n",
    "# fix the indexes\n",
    "df.reset_index(drop=True, inplace=True)"
   ]
  },
  {
   "cell_type": "code",
   "execution_count": 52,
   "metadata": {},
   "outputs": [
    {
     "data": {
      "text/html": [
       "<div>\n",
       "<style scoped>\n",
       "    .dataframe tbody tr th:only-of-type {\n",
       "        vertical-align: middle;\n",
       "    }\n",
       "\n",
       "    .dataframe tbody tr th {\n",
       "        vertical-align: top;\n",
       "    }\n",
       "\n",
       "    .dataframe thead th {\n",
       "        text-align: right;\n",
       "    }\n",
       "</style>\n",
       "<table border=\"1\" class=\"dataframe\">\n",
       "  <thead>\n",
       "    <tr style=\"text-align: right;\">\n",
       "      <th></th>\n",
       "      <th>Country Name</th>\n",
       "      <th>Country Code</th>\n",
       "      <th>Indicator Name</th>\n",
       "      <th>Source</th>\n",
       "      <th>2015</th>\n",
       "      <th>2016</th>\n",
       "      <th>2017</th>\n",
       "      <th>2018</th>\n",
       "      <th>2019</th>\n",
       "    </tr>\n",
       "  </thead>\n",
       "  <tbody>\n",
       "    <tr>\n",
       "      <td>0</td>\n",
       "      <td>Aruba</td>\n",
       "      <td>ABW</td>\n",
       "      <td>ACCESS_URBAN_PERC</td>\n",
       "      <td>ACCESS</td>\n",
       "      <td>100</td>\n",
       "      <td>100</td>\n",
       "      <td>100</td>\n",
       "      <td>100</td>\n",
       "      <td>NaN</td>\n",
       "    </tr>\n",
       "    <tr>\n",
       "      <td>1</td>\n",
       "      <td>Aruba</td>\n",
       "      <td>ABW</td>\n",
       "      <td>RI_LOGISTIC</td>\n",
       "      <td>BMI</td>\n",
       "      <td>46.3</td>\n",
       "      <td>45.5</td>\n",
       "      <td>49.4</td>\n",
       "      <td>46.8</td>\n",
       "      <td>48.8</td>\n",
       "    </tr>\n",
       "    <tr>\n",
       "      <td>2</td>\n",
       "      <td>Aruba</td>\n",
       "      <td>ABW</td>\n",
       "      <td>RI_TRADE</td>\n",
       "      <td>BMI</td>\n",
       "      <td>65</td>\n",
       "      <td>62.5</td>\n",
       "      <td>61.8</td>\n",
       "      <td>60.1</td>\n",
       "      <td>61.5</td>\n",
       "    </tr>\n",
       "    <tr>\n",
       "      <td>3</td>\n",
       "      <td>Aruba</td>\n",
       "      <td>ABW</td>\n",
       "      <td>ACCESS_PERC</td>\n",
       "      <td>ACCESS</td>\n",
       "      <td>100</td>\n",
       "      <td>100</td>\n",
       "      <td>100</td>\n",
       "      <td>100</td>\n",
       "      <td>NaN</td>\n",
       "    </tr>\n",
       "    <tr>\n",
       "      <td>4</td>\n",
       "      <td>Aruba</td>\n",
       "      <td>ABW</td>\n",
       "      <td>POP_RURAL_PERC</td>\n",
       "      <td>BMI</td>\n",
       "      <td>56.9</td>\n",
       "      <td>56.8</td>\n",
       "      <td>56.7</td>\n",
       "      <td>56.5</td>\n",
       "      <td>56.4</td>\n",
       "    </tr>\n",
       "    <tr>\n",
       "      <td>...</td>\n",
       "      <td>...</td>\n",
       "      <td>...</td>\n",
       "      <td>...</td>\n",
       "      <td>...</td>\n",
       "      <td>...</td>\n",
       "      <td>...</td>\n",
       "      <td>...</td>\n",
       "      <td>...</td>\n",
       "      <td>...</td>\n",
       "    </tr>\n",
       "    <tr>\n",
       "      <td>15059</td>\n",
       "      <td>Zimbabwe</td>\n",
       "      <td>ZWE</td>\n",
       "      <td>RISE_EE11</td>\n",
       "      <td>RISE</td>\n",
       "      <td>NaN</td>\n",
       "      <td>NaN</td>\n",
       "      <td>0</td>\n",
       "      <td>NaN</td>\n",
       "      <td>NaN</td>\n",
       "    </tr>\n",
       "    <tr>\n",
       "      <td>15060</td>\n",
       "      <td>Zimbabwe</td>\n",
       "      <td>ZWE</td>\n",
       "      <td>RISE_EE10</td>\n",
       "      <td>RISE</td>\n",
       "      <td>NaN</td>\n",
       "      <td>NaN</td>\n",
       "      <td>0</td>\n",
       "      <td>NaN</td>\n",
       "      <td>NaN</td>\n",
       "    </tr>\n",
       "    <tr>\n",
       "      <td>15061</td>\n",
       "      <td>Zimbabwe</td>\n",
       "      <td>ZWE</td>\n",
       "      <td>RISE_EE9</td>\n",
       "      <td>RISE</td>\n",
       "      <td>NaN</td>\n",
       "      <td>NaN</td>\n",
       "      <td>0</td>\n",
       "      <td>NaN</td>\n",
       "      <td>NaN</td>\n",
       "    </tr>\n",
       "    <tr>\n",
       "      <td>15062</td>\n",
       "      <td>Zimbabwe</td>\n",
       "      <td>ZWE</td>\n",
       "      <td>RISE_RE2</td>\n",
       "      <td>RISE</td>\n",
       "      <td>NaN</td>\n",
       "      <td>NaN</td>\n",
       "      <td>57</td>\n",
       "      <td>NaN</td>\n",
       "      <td>NaN</td>\n",
       "    </tr>\n",
       "    <tr>\n",
       "      <td>15063</td>\n",
       "      <td>NaN</td>\n",
       "      <td>ZWE</td>\n",
       "      <td>CO2_EMISS_TONSPP</td>\n",
       "      <td>BMI</td>\n",
       "      <td>NaN</td>\n",
       "      <td>NaN</td>\n",
       "      <td>0.884721</td>\n",
       "      <td>NaN</td>\n",
       "      <td>NaN</td>\n",
       "    </tr>\n",
       "  </tbody>\n",
       "</table>\n",
       "<p>15064 rows × 9 columns</p>\n",
       "</div>"
      ],
      "text/plain": [
       "      Country Name Country Code     Indicator Name  Source  2015  2016  \\\n",
       "0            Aruba          ABW  ACCESS_URBAN_PERC  ACCESS   100   100   \n",
       "1            Aruba          ABW        RI_LOGISTIC     BMI  46.3  45.5   \n",
       "2            Aruba          ABW           RI_TRADE     BMI    65  62.5   \n",
       "3            Aruba          ABW        ACCESS_PERC  ACCESS   100   100   \n",
       "4            Aruba          ABW     POP_RURAL_PERC     BMI  56.9  56.8   \n",
       "...            ...          ...                ...     ...   ...   ...   \n",
       "15059     Zimbabwe          ZWE          RISE_EE11    RISE   NaN   NaN   \n",
       "15060     Zimbabwe          ZWE          RISE_EE10    RISE   NaN   NaN   \n",
       "15061     Zimbabwe          ZWE           RISE_EE9    RISE   NaN   NaN   \n",
       "15062     Zimbabwe          ZWE           RISE_RE2    RISE   NaN   NaN   \n",
       "15063          NaN          ZWE   CO2_EMISS_TONSPP     BMI   NaN   NaN   \n",
       "\n",
       "           2017  2018  2019  \n",
       "0           100   100   NaN  \n",
       "1          49.4  46.8  48.8  \n",
       "2          61.8  60.1  61.5  \n",
       "3           100   100   NaN  \n",
       "4          56.7  56.5  56.4  \n",
       "...         ...   ...   ...  \n",
       "15059         0   NaN   NaN  \n",
       "15060         0   NaN   NaN  \n",
       "15061         0   NaN   NaN  \n",
       "15062        57   NaN   NaN  \n",
       "15063  0.884721   NaN   NaN  \n",
       "\n",
       "[15064 rows x 9 columns]"
      ]
     },
     "execution_count": 52,
     "metadata": {},
     "output_type": "execute_result"
    }
   ],
   "source": [
    "# verify consolidated dataframe created\n",
    "df"
   ]
  },
  {
   "cell_type": "markdown",
   "metadata": {},
   "source": [
    "### Change column datatypes to float"
   ]
  },
  {
   "cell_type": "code",
   "execution_count": 53,
   "metadata": {},
   "outputs": [],
   "source": [
    "for c in ['2015', '2016', '2017','2018', '2019']:\n",
    "    df[c] = df[c].replace('-',np.nan)\n",
    "    df[c] = df[c].astype(float)"
   ]
  },
  {
   "cell_type": "code",
   "execution_count": 54,
   "metadata": {},
   "outputs": [
    {
     "data": {
      "text/plain": [
       "Country Name       object\n",
       "Country Code       object\n",
       "Indicator Name     object\n",
       "Source             object\n",
       "2015              float64\n",
       "2016              float64\n",
       "2017              float64\n",
       "2018              float64\n",
       "2019              float64\n",
       "dtype: object"
      ]
     },
     "execution_count": 54,
     "metadata": {},
     "output_type": "execute_result"
    }
   ],
   "source": [
    "# verify datatypes are float for each year group\n",
    "df.dtypes"
   ]
  },
  {
   "cell_type": "markdown",
   "metadata": {},
   "source": [
    "### Check for NaNs\n",
    "\n",
    "(do nothing with them for now)"
   ]
  },
  {
   "cell_type": "code",
   "execution_count": 55,
   "metadata": {},
   "outputs": [
    {
     "data": {
      "text/plain": [
       "Country Name      0.029623\n",
       "Country Code      0.000000\n",
       "Indicator Name    0.000000\n",
       "Source            0.000000\n",
       "2015              0.033214\n",
       "2016              0.034111\n",
       "2017              0.008528\n",
       "2018              0.039722\n",
       "2019              0.109066\n",
       "dtype: float64"
      ]
     },
     "execution_count": 55,
     "metadata": {},
     "output_type": "execute_result"
    }
   ],
   "source": [
    "# Display percentage of missing values in each column\n",
    "df[(df['Source'] == 'BMI') | (df['Source'] == 'ACCESS')].isna().mean()"
   ]
  },
  {
   "cell_type": "code",
   "execution_count": 56,
   "metadata": {},
   "outputs": [
    {
     "data": {
      "text/plain": [
       "(15064, 9)"
      ]
     },
     "execution_count": 56,
     "metadata": {},
     "output_type": "execute_result"
    }
   ],
   "source": [
    "# display final shape of dataframe\n",
    "df.shape"
   ]
  },
  {
   "cell_type": "markdown",
   "metadata": {},
   "source": [
    "### Pivot into final dataframe format\n",
    "\n",
    "Rows should be country codes and columns should be indicator names"
   ]
  },
  {
   "cell_type": "code",
   "execution_count": 57,
   "metadata": {},
   "outputs": [],
   "source": [
    "df_piv = df.pivot(index='Country Code', columns='Indicator Name', values='2017')"
   ]
  },
  {
   "cell_type": "code",
   "execution_count": 58,
   "metadata": {},
   "outputs": [
    {
     "data": {
      "text/html": [
       "<div>\n",
       "<style scoped>\n",
       "    .dataframe tbody tr th:only-of-type {\n",
       "        vertical-align: middle;\n",
       "    }\n",
       "\n",
       "    .dataframe tbody tr th {\n",
       "        vertical-align: top;\n",
       "    }\n",
       "\n",
       "    .dataframe thead th {\n",
       "        text-align: right;\n",
       "    }\n",
       "</style>\n",
       "<table border=\"1\" class=\"dataframe\">\n",
       "  <thead>\n",
       "    <tr style=\"text-align: right;\">\n",
       "      <th>Indicator Name</th>\n",
       "      <th>ACCESS_PERC</th>\n",
       "      <th>ACCESS_RURAL_PERC</th>\n",
       "      <th>ACCESS_URBAN_PERC</th>\n",
       "      <th>CAPACITY_HYDRO_MW</th>\n",
       "      <th>CAPACITY_HYDRO_PERC</th>\n",
       "      <th>CAPACITY_HYDRO_YOY</th>\n",
       "      <th>CAPACITY_MW</th>\n",
       "      <th>CAPACITY_NUC_MW</th>\n",
       "      <th>CAPACITY_NUC_PERC</th>\n",
       "      <th>CAPACITY_NUC_YOY</th>\n",
       "      <th>...</th>\n",
       "      <th>SURV_GEN</th>\n",
       "      <th>SURV_GEN_USE</th>\n",
       "      <th>SURV_OUTAGE_DUR</th>\n",
       "      <th>SURV_OUTAGE_LOSS_PERC</th>\n",
       "      <th>SURV_OUTAGE_PERC</th>\n",
       "      <th>SURV_OUTAGE_QTY</th>\n",
       "      <th>SURV_SHIP</th>\n",
       "      <th>SURV_TRANS</th>\n",
       "      <th>SURV_WATER_PERC</th>\n",
       "      <th>SURV_WATER_QTY</th>\n",
       "    </tr>\n",
       "    <tr>\n",
       "      <th>Country Code</th>\n",
       "      <th></th>\n",
       "      <th></th>\n",
       "      <th></th>\n",
       "      <th></th>\n",
       "      <th></th>\n",
       "      <th></th>\n",
       "      <th></th>\n",
       "      <th></th>\n",
       "      <th></th>\n",
       "      <th></th>\n",
       "      <th></th>\n",
       "      <th></th>\n",
       "      <th></th>\n",
       "      <th></th>\n",
       "      <th></th>\n",
       "      <th></th>\n",
       "      <th></th>\n",
       "      <th></th>\n",
       "      <th></th>\n",
       "      <th></th>\n",
       "      <th></th>\n",
       "    </tr>\n",
       "  </thead>\n",
       "  <tbody>\n",
       "    <tr>\n",
       "      <td>ABW</td>\n",
       "      <td>100.000000</td>\n",
       "      <td>100.000000</td>\n",
       "      <td>100.000000</td>\n",
       "      <td>NaN</td>\n",
       "      <td>NaN</td>\n",
       "      <td>NaN</td>\n",
       "      <td>NaN</td>\n",
       "      <td>NaN</td>\n",
       "      <td>NaN</td>\n",
       "      <td>NaN</td>\n",
       "      <td>...</td>\n",
       "      <td>NaN</td>\n",
       "      <td>NaN</td>\n",
       "      <td>NaN</td>\n",
       "      <td>NaN</td>\n",
       "      <td>NaN</td>\n",
       "      <td>NaN</td>\n",
       "      <td>NaN</td>\n",
       "      <td>NaN</td>\n",
       "      <td>NaN</td>\n",
       "      <td>NaN</td>\n",
       "    </tr>\n",
       "    <tr>\n",
       "      <td>AFG</td>\n",
       "      <td>97.700000</td>\n",
       "      <td>97.091973</td>\n",
       "      <td>99.500000</td>\n",
       "      <td>NaN</td>\n",
       "      <td>NaN</td>\n",
       "      <td>NaN</td>\n",
       "      <td>NaN</td>\n",
       "      <td>NaN</td>\n",
       "      <td>NaN</td>\n",
       "      <td>NaN</td>\n",
       "      <td>...</td>\n",
       "      <td>48.0</td>\n",
       "      <td>38.3</td>\n",
       "      <td>3.8</td>\n",
       "      <td>9.6</td>\n",
       "      <td>70.4</td>\n",
       "      <td>11.5</td>\n",
       "      <td>1.7</td>\n",
       "      <td>42.1</td>\n",
       "      <td>8.9</td>\n",
       "      <td>0.9</td>\n",
       "    </tr>\n",
       "    <tr>\n",
       "      <td>AGO</td>\n",
       "      <td>41.962894</td>\n",
       "      <td>NaN</td>\n",
       "      <td>71.886459</td>\n",
       "      <td>2420.0</td>\n",
       "      <td>64.3</td>\n",
       "      <td>90.6</td>\n",
       "      <td>3764.4</td>\n",
       "      <td>0.0</td>\n",
       "      <td>0.0</td>\n",
       "      <td>NaN</td>\n",
       "      <td>...</td>\n",
       "      <td>79.0</td>\n",
       "      <td>27.3</td>\n",
       "      <td>13.5</td>\n",
       "      <td>12.6</td>\n",
       "      <td>87.7</td>\n",
       "      <td>4.7</td>\n",
       "      <td>3.3</td>\n",
       "      <td>25.3</td>\n",
       "      <td>46.1</td>\n",
       "      <td>2.4</td>\n",
       "    </tr>\n",
       "    <tr>\n",
       "      <td>ALB</td>\n",
       "      <td>100.000000</td>\n",
       "      <td>100.000000</td>\n",
       "      <td>100.000000</td>\n",
       "      <td>NaN</td>\n",
       "      <td>NaN</td>\n",
       "      <td>NaN</td>\n",
       "      <td>NaN</td>\n",
       "      <td>NaN</td>\n",
       "      <td>NaN</td>\n",
       "      <td>NaN</td>\n",
       "      <td>...</td>\n",
       "      <td>49.4</td>\n",
       "      <td>11.9</td>\n",
       "      <td>1.3</td>\n",
       "      <td>1.9</td>\n",
       "      <td>58.7</td>\n",
       "      <td>1.5</td>\n",
       "      <td>1.4</td>\n",
       "      <td>10.7</td>\n",
       "      <td>10.8</td>\n",
       "      <td>0.1</td>\n",
       "    </tr>\n",
       "    <tr>\n",
       "      <td>AND</td>\n",
       "      <td>NaN</td>\n",
       "      <td>NaN</td>\n",
       "      <td>NaN</td>\n",
       "      <td>NaN</td>\n",
       "      <td>NaN</td>\n",
       "      <td>NaN</td>\n",
       "      <td>NaN</td>\n",
       "      <td>NaN</td>\n",
       "      <td>NaN</td>\n",
       "      <td>NaN</td>\n",
       "      <td>...</td>\n",
       "      <td>NaN</td>\n",
       "      <td>NaN</td>\n",
       "      <td>NaN</td>\n",
       "      <td>NaN</td>\n",
       "      <td>NaN</td>\n",
       "      <td>NaN</td>\n",
       "      <td>NaN</td>\n",
       "      <td>NaN</td>\n",
       "      <td>NaN</td>\n",
       "      <td>NaN</td>\n",
       "    </tr>\n",
       "    <tr>\n",
       "      <td>...</td>\n",
       "      <td>...</td>\n",
       "      <td>...</td>\n",
       "      <td>...</td>\n",
       "      <td>...</td>\n",
       "      <td>...</td>\n",
       "      <td>...</td>\n",
       "      <td>...</td>\n",
       "      <td>...</td>\n",
       "      <td>...</td>\n",
       "      <td>...</td>\n",
       "      <td>...</td>\n",
       "      <td>...</td>\n",
       "      <td>...</td>\n",
       "      <td>...</td>\n",
       "      <td>...</td>\n",
       "      <td>...</td>\n",
       "      <td>...</td>\n",
       "      <td>...</td>\n",
       "      <td>...</td>\n",
       "      <td>...</td>\n",
       "      <td>...</td>\n",
       "    </tr>\n",
       "    <tr>\n",
       "      <td>XKX</td>\n",
       "      <td>NaN</td>\n",
       "      <td>NaN</td>\n",
       "      <td>NaN</td>\n",
       "      <td>NaN</td>\n",
       "      <td>NaN</td>\n",
       "      <td>NaN</td>\n",
       "      <td>NaN</td>\n",
       "      <td>NaN</td>\n",
       "      <td>NaN</td>\n",
       "      <td>NaN</td>\n",
       "      <td>...</td>\n",
       "      <td>NaN</td>\n",
       "      <td>NaN</td>\n",
       "      <td>NaN</td>\n",
       "      <td>NaN</td>\n",
       "      <td>NaN</td>\n",
       "      <td>NaN</td>\n",
       "      <td>NaN</td>\n",
       "      <td>NaN</td>\n",
       "      <td>NaN</td>\n",
       "      <td>NaN</td>\n",
       "    </tr>\n",
       "    <tr>\n",
       "      <td>YEM</td>\n",
       "      <td>79.200000</td>\n",
       "      <td>68.766799</td>\n",
       "      <td>97.735039</td>\n",
       "      <td>NaN</td>\n",
       "      <td>NaN</td>\n",
       "      <td>NaN</td>\n",
       "      <td>NaN</td>\n",
       "      <td>NaN</td>\n",
       "      <td>NaN</td>\n",
       "      <td>NaN</td>\n",
       "      <td>...</td>\n",
       "      <td>80.5</td>\n",
       "      <td>48.1</td>\n",
       "      <td>4.5</td>\n",
       "      <td>19.7</td>\n",
       "      <td>93.8</td>\n",
       "      <td>38.8</td>\n",
       "      <td>2.4</td>\n",
       "      <td>33.9</td>\n",
       "      <td>54.0</td>\n",
       "      <td>11.6</td>\n",
       "    </tr>\n",
       "    <tr>\n",
       "      <td>ZAF</td>\n",
       "      <td>84.400000</td>\n",
       "      <td>70.314530</td>\n",
       "      <td>91.704765</td>\n",
       "      <td>3595.0</td>\n",
       "      <td>6.8</td>\n",
       "      <td>5.6</td>\n",
       "      <td>52843.1</td>\n",
       "      <td>1860.0</td>\n",
       "      <td>3.5</td>\n",
       "      <td>0.0</td>\n",
       "      <td>...</td>\n",
       "      <td>18.4</td>\n",
       "      <td>10.9</td>\n",
       "      <td>4.5</td>\n",
       "      <td>1.6</td>\n",
       "      <td>44.9</td>\n",
       "      <td>0.9</td>\n",
       "      <td>1.4</td>\n",
       "      <td>3.9</td>\n",
       "      <td>5.4</td>\n",
       "      <td>0.1</td>\n",
       "    </tr>\n",
       "    <tr>\n",
       "      <td>ZMB</td>\n",
       "      <td>40.300000</td>\n",
       "      <td>13.997699</td>\n",
       "      <td>75.200000</td>\n",
       "      <td>2398.4</td>\n",
       "      <td>83.1</td>\n",
       "      <td>0.4</td>\n",
       "      <td>2884.7</td>\n",
       "      <td>0.0</td>\n",
       "      <td>0.0</td>\n",
       "      <td>NaN</td>\n",
       "      <td>...</td>\n",
       "      <td>62.1</td>\n",
       "      <td>30.1</td>\n",
       "      <td>10.9</td>\n",
       "      <td>18.8</td>\n",
       "      <td>87.1</td>\n",
       "      <td>13.3</td>\n",
       "      <td>0.7</td>\n",
       "      <td>11.7</td>\n",
       "      <td>16.8</td>\n",
       "      <td>2.3</td>\n",
       "    </tr>\n",
       "    <tr>\n",
       "      <td>ZWE</td>\n",
       "      <td>40.482048</td>\n",
       "      <td>19.152600</td>\n",
       "      <td>85.317101</td>\n",
       "      <td>940.0</td>\n",
       "      <td>41.2</td>\n",
       "      <td>20.5</td>\n",
       "      <td>2281.3</td>\n",
       "      <td>0.0</td>\n",
       "      <td>NaN</td>\n",
       "      <td>NaN</td>\n",
       "      <td>...</td>\n",
       "      <td>62.3</td>\n",
       "      <td>19.3</td>\n",
       "      <td>5.2</td>\n",
       "      <td>6.1</td>\n",
       "      <td>76.5</td>\n",
       "      <td>4.5</td>\n",
       "      <td>1.3</td>\n",
       "      <td>17.1</td>\n",
       "      <td>15.1</td>\n",
       "      <td>1.5</td>\n",
       "    </tr>\n",
       "  </tbody>\n",
       "</table>\n",
       "<p>266 rows × 112 columns</p>\n",
       "</div>"
      ],
      "text/plain": [
       "Indicator Name  ACCESS_PERC  ACCESS_RURAL_PERC  ACCESS_URBAN_PERC  \\\n",
       "Country Code                                                        \n",
       "ABW              100.000000         100.000000         100.000000   \n",
       "AFG               97.700000          97.091973          99.500000   \n",
       "AGO               41.962894                NaN          71.886459   \n",
       "ALB              100.000000         100.000000         100.000000   \n",
       "AND                     NaN                NaN                NaN   \n",
       "...                     ...                ...                ...   \n",
       "XKX                     NaN                NaN                NaN   \n",
       "YEM               79.200000          68.766799          97.735039   \n",
       "ZAF               84.400000          70.314530          91.704765   \n",
       "ZMB               40.300000          13.997699          75.200000   \n",
       "ZWE               40.482048          19.152600          85.317101   \n",
       "\n",
       "Indicator Name  CAPACITY_HYDRO_MW  CAPACITY_HYDRO_PERC  CAPACITY_HYDRO_YOY  \\\n",
       "Country Code                                                                 \n",
       "ABW                           NaN                  NaN                 NaN   \n",
       "AFG                           NaN                  NaN                 NaN   \n",
       "AGO                        2420.0                 64.3                90.6   \n",
       "ALB                           NaN                  NaN                 NaN   \n",
       "AND                           NaN                  NaN                 NaN   \n",
       "...                           ...                  ...                 ...   \n",
       "XKX                           NaN                  NaN                 NaN   \n",
       "YEM                           NaN                  NaN                 NaN   \n",
       "ZAF                        3595.0                  6.8                 5.6   \n",
       "ZMB                        2398.4                 83.1                 0.4   \n",
       "ZWE                         940.0                 41.2                20.5   \n",
       "\n",
       "Indicator Name  CAPACITY_MW  CAPACITY_NUC_MW  CAPACITY_NUC_PERC  \\\n",
       "Country Code                                                      \n",
       "ABW                     NaN              NaN                NaN   \n",
       "AFG                     NaN              NaN                NaN   \n",
       "AGO                  3764.4              0.0                0.0   \n",
       "ALB                     NaN              NaN                NaN   \n",
       "AND                     NaN              NaN                NaN   \n",
       "...                     ...              ...                ...   \n",
       "XKX                     NaN              NaN                NaN   \n",
       "YEM                     NaN              NaN                NaN   \n",
       "ZAF                 52843.1           1860.0                3.5   \n",
       "ZMB                  2884.7              0.0                0.0   \n",
       "ZWE                  2281.3              0.0                NaN   \n",
       "\n",
       "Indicator Name  CAPACITY_NUC_YOY  ...  SURV_GEN  SURV_GEN_USE  \\\n",
       "Country Code                      ...                           \n",
       "ABW                          NaN  ...       NaN           NaN   \n",
       "AFG                          NaN  ...      48.0          38.3   \n",
       "AGO                          NaN  ...      79.0          27.3   \n",
       "ALB                          NaN  ...      49.4          11.9   \n",
       "AND                          NaN  ...       NaN           NaN   \n",
       "...                          ...  ...       ...           ...   \n",
       "XKX                          NaN  ...       NaN           NaN   \n",
       "YEM                          NaN  ...      80.5          48.1   \n",
       "ZAF                          0.0  ...      18.4          10.9   \n",
       "ZMB                          NaN  ...      62.1          30.1   \n",
       "ZWE                          NaN  ...      62.3          19.3   \n",
       "\n",
       "Indicator Name  SURV_OUTAGE_DUR  SURV_OUTAGE_LOSS_PERC  SURV_OUTAGE_PERC  \\\n",
       "Country Code                                                               \n",
       "ABW                         NaN                    NaN               NaN   \n",
       "AFG                         3.8                    9.6              70.4   \n",
       "AGO                        13.5                   12.6              87.7   \n",
       "ALB                         1.3                    1.9              58.7   \n",
       "AND                         NaN                    NaN               NaN   \n",
       "...                         ...                    ...               ...   \n",
       "XKX                         NaN                    NaN               NaN   \n",
       "YEM                         4.5                   19.7              93.8   \n",
       "ZAF                         4.5                    1.6              44.9   \n",
       "ZMB                        10.9                   18.8              87.1   \n",
       "ZWE                         5.2                    6.1              76.5   \n",
       "\n",
       "Indicator Name  SURV_OUTAGE_QTY  SURV_SHIP  SURV_TRANS  SURV_WATER_PERC  \\\n",
       "Country Code                                                              \n",
       "ABW                         NaN        NaN         NaN              NaN   \n",
       "AFG                        11.5        1.7        42.1              8.9   \n",
       "AGO                         4.7        3.3        25.3             46.1   \n",
       "ALB                         1.5        1.4        10.7             10.8   \n",
       "AND                         NaN        NaN         NaN              NaN   \n",
       "...                         ...        ...         ...              ...   \n",
       "XKX                         NaN        NaN         NaN              NaN   \n",
       "YEM                        38.8        2.4        33.9             54.0   \n",
       "ZAF                         0.9        1.4         3.9              5.4   \n",
       "ZMB                        13.3        0.7        11.7             16.8   \n",
       "ZWE                         4.5        1.3        17.1             15.1   \n",
       "\n",
       "Indicator Name  SURV_WATER_QTY  \n",
       "Country Code                    \n",
       "ABW                        NaN  \n",
       "AFG                        0.9  \n",
       "AGO                        2.4  \n",
       "ALB                        0.1  \n",
       "AND                        NaN  \n",
       "...                        ...  \n",
       "XKX                        NaN  \n",
       "YEM                       11.6  \n",
       "ZAF                        0.1  \n",
       "ZMB                        2.3  \n",
       "ZWE                        1.5  \n",
       "\n",
       "[266 rows x 112 columns]"
      ]
     },
     "execution_count": 58,
     "metadata": {},
     "output_type": "execute_result"
    }
   ],
   "source": [
    "# Verify final dataframe shape\n",
    "df_piv"
   ]
  },
  {
   "cell_type": "code",
   "execution_count": 59,
   "metadata": {},
   "outputs": [
    {
     "name": "stdout",
     "output_type": "stream",
     "text": [
      "Number of rows with >25% missing data:  166\n"
     ]
    }
   ],
   "source": [
    "print('Number of rows with >25% missing data: ', (df_piv.isna().sum(axis=1)/df_piv.shape[1] > 0.25).sum())"
   ]
  },
  {
   "cell_type": "markdown",
   "metadata": {},
   "source": [
    "# Export all data to excel spreadsheet"
   ]
  },
  {
   "cell_type": "code",
   "execution_count": 60,
   "metadata": {},
   "outputs": [],
   "source": [
    "# create a dataframe to show the association of indicator names and their abbreviated form\n",
    "indicators_clean = pd.DataFrame()\n",
    "indicators_clean['Abbreviated Name'] = list(df_piv.columns)\n",
    "indicators_clean['Indicator Name'] = ''\n",
    "\n",
    "for ind_idx, ind_val in enumerate(indicators_clean['Abbreviated Name']):\n",
    "    indicators_clean.iloc[ind_idx, 1] = indicators.loc[indicators['Abbreviated Name'] == ind_val , 'Indicator Name'].iloc[0]\n",
    "    "
   ]
  },
  {
   "cell_type": "code",
   "execution_count": 61,
   "metadata": {},
   "outputs": [
    {
     "data": {
      "text/html": [
       "<div>\n",
       "<style scoped>\n",
       "    .dataframe tbody tr th:only-of-type {\n",
       "        vertical-align: middle;\n",
       "    }\n",
       "\n",
       "    .dataframe tbody tr th {\n",
       "        vertical-align: top;\n",
       "    }\n",
       "\n",
       "    .dataframe thead th {\n",
       "        text-align: right;\n",
       "    }\n",
       "</style>\n",
       "<table border=\"1\" class=\"dataframe\">\n",
       "  <thead>\n",
       "    <tr style=\"text-align: right;\">\n",
       "      <th></th>\n",
       "      <th>Abbreviated Name</th>\n",
       "      <th>Indicator Name</th>\n",
       "    </tr>\n",
       "  </thead>\n",
       "  <tbody>\n",
       "    <tr>\n",
       "      <td>0</td>\n",
       "      <td>ACCESS_PERC</td>\n",
       "      <td>Access to electricity (% of population)</td>\n",
       "    </tr>\n",
       "    <tr>\n",
       "      <td>1</td>\n",
       "      <td>ACCESS_RURAL_PERC</td>\n",
       "      <td>Access to electricity, rural (% of rural popul...</td>\n",
       "    </tr>\n",
       "    <tr>\n",
       "      <td>2</td>\n",
       "      <td>ACCESS_URBAN_PERC</td>\n",
       "      <td>Access to electricity, urban (% of urban popul...</td>\n",
       "    </tr>\n",
       "    <tr>\n",
       "      <td>3</td>\n",
       "      <td>CAPACITY_HYDRO_MW</td>\n",
       "      <td>ELECTRICITY CAPACITY: Capacity, Hydropower, MW</td>\n",
       "    </tr>\n",
       "    <tr>\n",
       "      <td>4</td>\n",
       "      <td>CAPACITY_HYDRO_PERC</td>\n",
       "      <td>ELECTRICITY CAPACITY: Capacity, Hydropower, % ...</td>\n",
       "    </tr>\n",
       "    <tr>\n",
       "      <td>...</td>\n",
       "      <td>...</td>\n",
       "      <td>...</td>\n",
       "    </tr>\n",
       "    <tr>\n",
       "      <td>107</td>\n",
       "      <td>SURV_OUTAGE_QTY</td>\n",
       "      <td>Number of electrical outages in a typical month</td>\n",
       "    </tr>\n",
       "    <tr>\n",
       "      <td>108</td>\n",
       "      <td>SURV_SHIP</td>\n",
       "      <td>Proportion of products lost to breakage or spo...</td>\n",
       "    </tr>\n",
       "    <tr>\n",
       "      <td>109</td>\n",
       "      <td>SURV_TRANS</td>\n",
       "      <td>Percent of firms identifying transportation as...</td>\n",
       "    </tr>\n",
       "    <tr>\n",
       "      <td>110</td>\n",
       "      <td>SURV_WATER_PERC</td>\n",
       "      <td>Percent of firms experiencing water insufficie...</td>\n",
       "    </tr>\n",
       "    <tr>\n",
       "      <td>111</td>\n",
       "      <td>SURV_WATER_QTY</td>\n",
       "      <td>Number of water insufficiencies in a typical m...</td>\n",
       "    </tr>\n",
       "  </tbody>\n",
       "</table>\n",
       "<p>112 rows × 2 columns</p>\n",
       "</div>"
      ],
      "text/plain": [
       "        Abbreviated Name                                     Indicator Name\n",
       "0            ACCESS_PERC            Access to electricity (% of population)\n",
       "1      ACCESS_RURAL_PERC  Access to electricity, rural (% of rural popul...\n",
       "2      ACCESS_URBAN_PERC  Access to electricity, urban (% of urban popul...\n",
       "3      CAPACITY_HYDRO_MW     ELECTRICITY CAPACITY: Capacity, Hydropower, MW\n",
       "4    CAPACITY_HYDRO_PERC  ELECTRICITY CAPACITY: Capacity, Hydropower, % ...\n",
       "..                   ...                                                ...\n",
       "107      SURV_OUTAGE_QTY    Number of electrical outages in a typical month\n",
       "108            SURV_SHIP  Proportion of products lost to breakage or spo...\n",
       "109           SURV_TRANS  Percent of firms identifying transportation as...\n",
       "110      SURV_WATER_PERC  Percent of firms experiencing water insufficie...\n",
       "111       SURV_WATER_QTY  Number of water insufficiencies in a typical m...\n",
       "\n",
       "[112 rows x 2 columns]"
      ]
     },
     "execution_count": 61,
     "metadata": {},
     "output_type": "execute_result"
    }
   ],
   "source": [
    "# Verify indicators have abbreviated and full form in dataframe\n",
    "indicators_clean"
   ]
  },
  {
   "cell_type": "code",
   "execution_count": 62,
   "metadata": {},
   "outputs": [],
   "source": [
    "# Save all to excel\n",
    "with pd.ExcelWriter('ALL DATA.xlsx') as writer:  \n",
    "    df_piv.to_excel(writer, sheet_name='2017 Snapshot')\n",
    "    df.to_excel(writer, sheet_name='ALL DATA')\n",
    "    indicators_clean.to_excel(writer, sheet_name='Indicator Definitions')\n"
   ]
  },
  {
   "cell_type": "code",
   "execution_count": null,
   "metadata": {},
   "outputs": [],
   "source": []
  },
  {
   "cell_type": "code",
   "execution_count": null,
   "metadata": {},
   "outputs": [],
   "source": []
  },
  {
   "cell_type": "code",
   "execution_count": null,
   "metadata": {},
   "outputs": [],
   "source": []
  },
  {
   "cell_type": "markdown",
   "metadata": {},
   "source": [
    "# DELETE ALL BELOW"
   ]
  },
  {
   "cell_type": "code",
   "execution_count": null,
   "metadata": {},
   "outputs": [],
   "source": []
  },
  {
   "cell_type": "raw",
   "metadata": {},
   "source": [
    "# Data Analysis"
   ]
  },
  {
   "cell_type": "raw",
   "metadata": {},
   "source": []
  },
  {
   "cell_type": "raw",
   "metadata": {},
   "source": [
    "# Math Function\n",
    "def compute_col(df, mult_cols, div_cols, scalar, out_col):\n",
    "    # multiplies column values by mult_cols, divides column values by div_cols, checks for nans\n",
    "    # in_cols is a list\n",
    "    # scalar must be one or larger\n",
    "    dft = df.copy()\n",
    "    for i in range(len(dft)):\n",
    "        val = scalar\n",
    "        skip = False\n",
    "        for col_name in mult_cols:\n",
    "            if math.isnan(dft.iloc[i][col_name]):\n",
    "                skip = True\n",
    "            else: \n",
    "                val *= dft.iloc[i][col_name]\n",
    "        for col_name in div_cols:\n",
    "            if math.isnan(dft.iloc[i][col_name]) or dft.iloc[i][col_name] == 0:\n",
    "                skip = True\n",
    "            else: \n",
    "                val = val / dft.iloc[i][col_name]\n",
    "        if skip: \n",
    "            continue\n",
    "        else:\n",
    "            dft.iloc[i][out_col] = val\n",
    "    return dft\n",
    "        "
   ]
  },
  {
   "cell_type": "raw",
   "metadata": {},
   "source": [
    "#### Calculate LOSS values"
   ]
  },
  {
   "cell_type": "raw",
   "metadata": {},
   "source": [
    "df_piv['LOSS_NOMINAL_USDMN'] = np.nan\n",
    "df_piv['LOSS_USDMN'] = np.nan"
   ]
  },
  {
   "cell_type": "raw",
   "metadata": {},
   "source": [
    "df_piv = compute_col(df_piv, ['LOSS_TWH', 'PRICE_RES_USDKWH'],[], 1e3, 'LOSS_USDMN')\n"
   ]
  },
  {
   "cell_type": "raw",
   "metadata": {},
   "source": [
    "df_piv = compute_col(df_piv, ['LOSS_USDMN'],['LOSS_PERC'], 6, 'LOSS_NOMINAL_USDMN')"
   ]
  },
  {
   "cell_type": "raw",
   "metadata": {},
   "source": [
    "df_piv.head()"
   ]
  },
  {
   "cell_type": "raw",
   "metadata": {},
   "source": [
    "#### Calculate Capacity USD Investments\n"
   ]
  },
  {
   "cell_type": "raw",
   "metadata": {},
   "source": [
    "for ind in ['CAPACITY_THERMAL_YOY', 'CAPACITY_NUC_YOY', 'CAPACITY_HYDRO_YOY', 'CAPACITY_RENEW_YOY']:\n",
    "    for i in range(len(df_piv)):\n",
    "        ccode = df_piv.index[i]\n",
    "        try: \n",
    "            sub = df[(df['Country Code'] == ccode) & (df['Indicator Name'] == ind)]\n",
    "            mult = 1\n",
    "            for i in ['2015', '2016', '2017', '2018', '2019']:\n",
    "                mult *= (1+sub.iloc[0][i]/100)\n",
    "            df_piv.loc[ccode,ind] = (mult**(1/5.)-1)*100\n",
    "        except:\n",
    "            pass\n",
    "        "
   ]
  },
  {
   "cell_type": "raw",
   "metadata": {},
   "source": [
    "# YOY values need to be averaged over the time period...\n",
    "\n",
    "\n",
    "sub = df[(df['Country Code'] == 'ARE') & (df['Indicator Name'] == 'GEN_THERMAL_YOY')]\n",
    "display(sub)\n",
    "\n",
    "mult = 1\n",
    "for i in ['2015', '2016', '2017', '2018', '2019']:\n",
    "    mult *= (1+sub.iloc[0][i]/100)\n",
    "\n",
    "display(mult)\n",
    "(mult**(1/5.)-1)*100"
   ]
  },
  {
   "cell_type": "raw",
   "metadata": {},
   "source": []
  },
  {
   "cell_type": "raw",
   "metadata": {},
   "source": [
    "df_piv['CAPACITY_THERMAL_USDCHG'] = np.nan\n",
    "df_piv['CAPACITY_NUC_USDCHG'] = np.nan\n",
    "df_piv['CAPACITY_HYDRO_USDCHG'] = np.nan\n",
    "df_piv['CAPACITY_RENEW_USDCHG'] = np.nan"
   ]
  },
  {
   "cell_type": "raw",
   "metadata": {},
   "source": [
    "# Construction costs per kW ($/kW)\n",
    "therm_cc = 3500\n",
    "nuc_cc = 6800\n",
    "hydro_cc = 2750\n",
    "renew_cc = 2100"
   ]
  },
  {
   "cell_type": "raw",
   "metadata": {},
   "source": [
    "df_piv = compute_col(df_piv, ['CAPACITY_THERMAL_MW', 'CAPACITY_THERMAL_YOY'], [], therm_cc * 1e3 * 0.01, 'CAPACITY_THERMAL_USDCHG')\n",
    "df_piv = compute_col(df_piv, ['CAPACITY_NUC_MW', 'CAPACITY_NUC_YOY'], [], nuc_cc * 1e3 * 0.01, 'CAPACITY_NUC_USDCHG')\n",
    "df_piv = compute_col(df_piv, ['CAPACITY_HYDRO_MW', 'CAPACITY_HYDRO_YOY'], [], hydro_cc * 1e3 * 0.01, 'CAPACITY_HYDRO_USDCHG')\n",
    "df_piv = compute_col(df_piv, ['CAPACITY_RENEW_MW', 'CAPACITY_RENEW_YOY'], [], renew_cc * 1e3 * 0.01, 'CAPACITY_RENEW_USDCHG')\n",
    "\n"
   ]
  },
  {
   "cell_type": "raw",
   "metadata": {},
   "source": [
    "df_piv.head()"
   ]
  },
  {
   "cell_type": "raw",
   "metadata": {},
   "source": [
    "# PLOTS"
   ]
  },
  {
   "cell_type": "raw",
   "metadata": {},
   "source": [
    "### CAPACITY_RENEW_YOY\n",
    "- Which countries have the highest positive change in renewable energy generation capacity?\n"
   ]
  },
  {
   "cell_type": "raw",
   "metadata": {},
   "source": [
    "ind = 'CAPACITY_RENEW_YOY'\n",
    "df_cap = df_piv[ind].dropna().sort_values(ascending=True)\n",
    "df_cap.describe()"
   ]
  },
  {
   "cell_type": "raw",
   "metadata": {},
   "source": [
    "n = 10\n",
    "print(n, ' Top Countries:')\n",
    "display(df_cap.head(10))\n",
    "print(n, ' Bottom Countries:')\n",
    "display(df_cap.tail(10))"
   ]
  },
  {
   "cell_type": "raw",
   "metadata": {},
   "source": [
    "# peg numbers to a low limit\n",
    "artificial_lo = -1\n",
    "df_cap.loc[df_cap < artificial_lo] = artificial_lo\n",
    "\n",
    "# peg numbers to a high limit\n",
    "artificial_hi = 50\n",
    "df_cap.loc[df_cap > artificial_hi] = artificial_hi"
   ]
  },
  {
   "cell_type": "raw",
   "metadata": {},
   "source": [
    "# Plot\n",
    "\n",
    "fig_cap = go.Figure(data=go.Choropleth(\n",
    "    locations = df_cap.index,\n",
    "    z = df_cap,\n",
    "    text = df_cap.index,\n",
    "#    colorscale = 'Blues',\n",
    "    autocolorscale=False,\n",
    "    reversescale=False,\n",
    "    marker_line_color='darkgray',\n",
    "    marker_line_width=0.5,\n",
    "    #colorbar_tickprefix = '',\n",
    "    colorbar_ticksuffix = '%',\n",
    "    colorbar_title = 'YoY<br>Increase',\n",
    "))\n",
    "\n",
    "fig_cap.update_layout(\n",
    "    title_text='% Change in Renewable Capacity',\n",
    "    geo=dict(\n",
    "        showframe=False,\n",
    "        showcoastlines=False,\n",
    "        projection_type='equirectangular'\n",
    "    ),\n",
    "    annotations = [dict(\n",
    "        x=0.55,\n",
    "        y=0.1,\n",
    "        xref='paper',\n",
    "        yref='paper',\n",
    "        text='Source: <a href=\"https://www.google.com\">BMI</a>',\n",
    "        showarrow = False\n",
    "    )]\n",
    ")\n",
    "\n",
    "fig_cap.show()"
   ]
  },
  {
   "cell_type": "raw",
   "metadata": {},
   "source": [
    "### ACCESS_PERC\n",
    "- How does access to electricity vary?"
   ]
  },
  {
   "cell_type": "raw",
   "metadata": {},
   "source": [
    "ind = 'ACCESS_PERC'\n",
    "df_cap = df_piv[ind].dropna().sort_values(ascending=True)\n",
    "df_cap.describe()"
   ]
  },
  {
   "cell_type": "raw",
   "metadata": {},
   "source": [
    "n = 10\n",
    "print(n, ' Top Countries:')\n",
    "display(df_cap.head(10))\n",
    "print(n, ' Bottom Countries:')\n",
    "display(df_cap.tail(10))"
   ]
  },
  {
   "cell_type": "raw",
   "metadata": {},
   "source": [
    "# peg numbers to a low limit\n",
    "artificial_lo = -1\n",
    "df_cap.loc[df_cap < artificial_lo] = artificial_lo\n",
    "\n",
    "# peg numbers to a high limit\n",
    "artificial_hi = 50\n",
    "df_cap.loc[df_cap > artificial_hi] = artificial_hi"
   ]
  },
  {
   "cell_type": "raw",
   "metadata": {},
   "source": [
    "# Plot\n",
    "\n",
    "fig_cap = go.Figure(data=go.Choropleth(\n",
    "    locations = df_cap.index,\n",
    "    z = df_cap,\n",
    "    text = df_cap.index,\n",
    "#    colorscale = 'Blues',\n",
    "    autocolorscale=False,\n",
    "    reversescale=True,\n",
    "    marker_line_color='darkgray',\n",
    "    marker_line_width=0.5,\n",
    "    #colorbar_tickprefix = '',\n",
    "    colorbar_ticksuffix = '%',\n",
    "    colorbar_title = 'Access',\n",
    "))\n",
    "\n",
    "fig_cap.update_layout(\n",
    "    title_text='Population Access to Electricity',\n",
    "    geo=dict(\n",
    "        showframe=False,\n",
    "        showcoastlines=False,\n",
    "        projection_type='equirectangular'\n",
    "    ),\n",
    "    annotations = [dict(\n",
    "        x=0.55,\n",
    "        y=0.1,\n",
    "        xref='paper',\n",
    "        yref='paper',\n",
    "        text='Source: <a href=\"https://www.google.com\">BMI</a>',\n",
    "        showarrow = False\n",
    "    )]\n",
    ")\n",
    "\n",
    "fig_cap.show()"
   ]
  },
  {
   "cell_type": "raw",
   "metadata": {},
   "source": [
    "### CAPACITY_THERMAL_PERC\n",
    "- Which countries are heavily reliant on thermal (oil, gas, coal)?"
   ]
  },
  {
   "cell_type": "raw",
   "metadata": {},
   "source": [
    "\n",
    "ind = 'CAPACITY_THERMAL_PERC'\n",
    "df_cap = df_piv[ind].dropna().sort_values(ascending=True)\n",
    "df_cap.describe()"
   ]
  },
  {
   "cell_type": "raw",
   "metadata": {},
   "source": [
    "n = 10\n",
    "print(n, ' Top Countries:')\n",
    "display(df_cap.head(10))\n",
    "print(n, ' Bottom Countries:')\n",
    "display(df_cap.tail(10))"
   ]
  },
  {
   "cell_type": "raw",
   "metadata": {},
   "source": [
    "# peg numbers to a low limit\n",
    "artificial_lo = -1\n",
    "df_cap.loc[df_cap < artificial_lo] = artificial_lo\n",
    "\n",
    "# peg numbers to a high limit\n",
    "artificial_hi = 50\n",
    "df_cap.loc[df_cap > artificial_hi] = artificial_hi"
   ]
  },
  {
   "cell_type": "raw",
   "metadata": {},
   "source": [
    "# Plot\n",
    "\n",
    "fig_cap = go.Figure(data=go.Choropleth(\n",
    "    locations = df_cap.index,\n",
    "    z = df_cap,\n",
    "    text = df_cap.index,\n",
    "#    colorscale = 'Blues',\n",
    "    autocolorscale=False,\n",
    "    reversescale=False,\n",
    "    marker_line_color='darkgray',\n",
    "    marker_line_width=0.5,\n",
    "    #colorbar_tickprefix = '',\n",
    "    colorbar_ticksuffix = '%',\n",
    "    colorbar_title = '',\n",
    "))\n",
    "\n",
    "fig_cap.update_layout(\n",
    "    title_text=\"Percent of National Energy Output from Coal, Gas, or Oil\",\n",
    "    geo=dict(\n",
    "        showframe=False,\n",
    "        showcoastlines=False,\n",
    "        projection_type='equirectangular'\n",
    "    ),\n",
    "    annotations = [dict(\n",
    "        x=0.55,\n",
    "        y=0.1,\n",
    "        xref='paper',\n",
    "        yref='paper',\n",
    "        text='Source: <a href=\"https://www.google.com\">BMI</a>',\n",
    "        showarrow = False\n",
    "    )]\n",
    ")\n",
    "\n",
    "fig_cap.show()"
   ]
  },
  {
   "cell_type": "raw",
   "metadata": {},
   "source": [
    "### PRICE_RES_USDKWH\n",
    "- How much is electricity in each country?"
   ]
  },
  {
   "cell_type": "raw",
   "metadata": {},
   "source": [
    "ind = 'PRICE_RES_USDKWH'\n",
    "df_cap = df_piv[ind].dropna().sort_values(ascending=True)\n",
    "df_cap.describe()"
   ]
  },
  {
   "cell_type": "raw",
   "metadata": {},
   "source": [
    "n = 10\n",
    "print(n, ' Top Countries:')\n",
    "display(df_cap.head(10))\n",
    "print(n, ' Bottom Countries:')\n",
    "display(df_cap.tail(10))"
   ]
  },
  {
   "cell_type": "raw",
   "metadata": {},
   "source": [
    "# peg numbers to a low limit\n",
    "# artificial_lo = -1\n",
    "# df_cap.loc[df_cap < artificial_lo] = artificial_lo\n",
    "\n",
    "# peg numbers to a high limit\n",
    "artificial_hi = 0.5\n",
    "df_cap.loc[df_cap > artificial_hi] = artificial_hi"
   ]
  },
  {
   "cell_type": "raw",
   "metadata": {},
   "source": [
    "# Plot\n",
    "\n",
    "fig_cap = go.Figure(data=go.Choropleth(\n",
    "    locations = df_cap.index,\n",
    "    z = df_cap,\n",
    "    text = df_cap.index,\n",
    "#    colorscale = 'Blues',\n",
    "    autocolorscale=False,\n",
    "    reversescale=False,\n",
    "    marker_line_color='darkgray',\n",
    "    marker_line_width=0.5,\n",
    "    colorbar_tickprefix = '',\n",
    "#    colorbar_ticksuffix = '%',\n",
    "    colorbar_title = '$/kWh',\n",
    "))\n",
    "\n",
    "fig_cap.update_layout(\n",
    "    title_text=\"Price per Kilowatt-Hour (USD)\",\n",
    "    geo=dict(\n",
    "        showframe=False,\n",
    "        showcoastlines=False,\n",
    "        projection_type='equirectangular'\n",
    "    ),\n",
    "    annotations = [dict(\n",
    "        x=0.55,\n",
    "        y=0.1,\n",
    "        xref='paper',\n",
    "        yref='paper',\n",
    "        text='Source: <a href=\"https://www.google.com\">BMI</a>',\n",
    "        showarrow = False\n",
    "    )]\n",
    ")\n",
    "\n",
    "fig_cap.show()"
   ]
  },
  {
   "cell_type": "raw",
   "metadata": {},
   "source": [
    "### PRICE_RES_USDKWH as fraction of RGDP_PP\n",
    "- https://www.statista.com/statistics/263492/electricity-prices-in-selected-countries/#:~:text=In%20the%20United%20Kingdom%2C%20electricity,U.S.%20dollars%20per%20kilowatt%20hour.&text=Electricity%20prices%20by%20country%20can,factors%20like%20infrastructure%20and%20geography.\n",
    "- How much is electricity in each country as a fraction of RGDP_PP?"
   ]
  },
  {
   "cell_type": "raw",
   "metadata": {},
   "source": [
    "ind = 'PRICE_RES_USDKWH'\n",
    "df_cap = df_piv[ind].dropna().sort_values(ascending=True)\n",
    "df_cap.describe()"
   ]
  },
  {
   "cell_type": "raw",
   "metadata": {},
   "source": [
    "ind2 = 'RGDP_PP'\n",
    "df_cap2 = df_piv[[ind, ind2]].dropna()\n",
    "df_cap2['PRICE_OVER_RGDPPP'] = df_cap2['PRICE_RES_USDKWH'] / df_cap2['RGDP_PP'] * 500\n",
    "df_cap2.describe()"
   ]
  },
  {
   "cell_type": "raw",
   "metadata": {},
   "source": [
    "n = 10\n",
    "print(n, ' Top Countries:')\n",
    "display(df_cap2.head(10))\n",
    "print(n, ' Bottom Countries:')\n",
    "display(df_cap2.tail(10))"
   ]
  },
  {
   "cell_type": "raw",
   "metadata": {},
   "source": [
    "# peg numbers to a low limit\n",
    "# artificial_lo = -1\n",
    "# df_cap.loc[df_cap < artificial_lo] = artificial_lo\n",
    "\n",
    "# peg numbers to a high limit\n",
    "artificial_hi = 0.02\n",
    "df_cap2.loc[df_cap2['PRICE_OVER_RGDPPP'] > artificial_hi,'PRICE_OVER_RGDPPP'] = artificial_hi"
   ]
  },
  {
   "cell_type": "raw",
   "metadata": {},
   "source": [
    "# Plot\n",
    "# per capita consumption ~500kWh\n",
    "\n",
    "fig_cap = go.Figure(data=go.Choropleth(\n",
    "    locations = df_cap2.index,\n",
    "    z = df_cap2['PRICE_OVER_RGDPPP'],\n",
    "    text = df_cap2.index,\n",
    "#    colorscale = 'Blues',\n",
    "    autocolorscale=False,\n",
    "    reversescale=False,\n",
    "    marker_line_color='darkgray',\n",
    "    marker_line_width=0.5,\n",
    "    colorbar_tickprefix = '',\n",
    "#    colorbar_ticksuffix = '%',\n",
    "    colorbar_title = 'Value',\n",
    "))\n",
    "\n",
    "fig_cap.update_layout(\n",
    "    title_text=\"Cost of 500 kWh as Fraction of Per Capita GDP\",\n",
    "    geo=dict(\n",
    "        showframe=False,\n",
    "        showcoastlines=False,\n",
    "        projection_type='equirectangular'\n",
    "    ),\n",
    "    annotations = [dict(\n",
    "        x=0.55,\n",
    "        y=0.1,\n",
    "        xref='paper',\n",
    "        yref='paper',\n",
    "        text='Source: <a href=\"https://www.google.com\">BMI</a>',\n",
    "        showarrow = False\n",
    "    )]\n",
    ")\n",
    "\n",
    "fig_cap.show()"
   ]
  },
  {
   "cell_type": "raw",
   "metadata": {},
   "source": [
    "### LOSS_PERC\n",
    "- How much electricity is lost in each country?"
   ]
  },
  {
   "cell_type": "raw",
   "metadata": {},
   "source": [
    "ind = 'LOSS_PERC'\n",
    "df_cap = df_piv[ind].dropna().sort_values(ascending=True)\n",
    "df_cap.describe()"
   ]
  },
  {
   "cell_type": "raw",
   "metadata": {},
   "source": [
    "n = 10\n",
    "print(n, ' Top Countries:')\n",
    "display(df_cap.head(10))\n",
    "print(n, ' Bottom Countries:')\n",
    "display(df_cap.tail(10))"
   ]
  },
  {
   "cell_type": "raw",
   "metadata": {},
   "source": [
    "# peg numbers to a low limit\n",
    "artificial_lo = -1\n",
    "df_cap.loc[df_cap < artificial_lo] = artificial_lo\n",
    "\n",
    "# peg numbers to a high limit\n",
    "artificial_hi = 25\n",
    "df_cap.loc[df_cap > artificial_hi] = artificial_hi"
   ]
  },
  {
   "cell_type": "raw",
   "metadata": {},
   "source": [
    "# Plot\n",
    "\n",
    "fig_cap = go.Figure(data=go.Choropleth(\n",
    "    locations = df_cap.index,\n",
    "    z = df_cap,\n",
    "    text = df_cap.index,\n",
    "    colorscale = 'Blues',\n",
    "    autocolorscale=False,\n",
    "    reversescale=False,\n",
    "    marker_line_color='darkgray',\n",
    "    marker_line_width=0.5,\n",
    "#    colorbar_tickprefix = '',\n",
    "    colorbar_ticksuffix = '%',\n",
    "    colorbar_title = '',\n",
    "))\n",
    "\n",
    "fig_cap.update_layout(\n",
    "    title_text=\"Transmission Losses, % of Total Capacity\",\n",
    "    geo=dict(\n",
    "        showframe=False,\n",
    "        showcoastlines=False,\n",
    "        projection_type='equirectangular'\n",
    "    ),\n",
    "    annotations = [dict(\n",
    "        x=0.55,\n",
    "        y=0.1,\n",
    "        xref='paper',\n",
    "        yref='paper',\n",
    "        text='Source: <a href=\"https://www.google.com\">BMI</a>',\n",
    "        showarrow = False\n",
    "    )]\n",
    ")\n",
    "\n",
    "fig_cap.show()"
   ]
  },
  {
   "cell_type": "raw",
   "metadata": {},
   "source": []
  },
  {
   "cell_type": "raw",
   "metadata": {},
   "source": []
  },
  {
   "cell_type": "raw",
   "metadata": {},
   "source": [
    "# Test Choropleth\n",
    "- https://plotly.com/python/choropleth-maps/"
   ]
  },
  {
   "cell_type": "raw",
   "metadata": {},
   "source": [
    "list(df_piv['POP'])"
   ]
  },
  {
   "cell_type": "raw",
   "metadata": {},
   "source": [
    "df_piv.drop(['GLOBAL'], inplace=True)"
   ]
  },
  {
   "cell_type": "raw",
   "metadata": {},
   "source": [
    "df_piv['LOSS_PERC'].min()"
   ]
  },
  {
   "cell_type": "raw",
   "metadata": {},
   "source": [
    "for i in range(len(df_piv)):\n",
    "    if df_piv.iloc[i]['LOSS_PERC'] < 0:\n",
    "        df_piv.iloc[i]['LOSS_PERC'] = np.nan\n"
   ]
  },
  {
   "cell_type": "raw",
   "metadata": {},
   "source": [
    "import plotly.graph_objects as go\n",
    "\n",
    "fig = go.Figure(data=go.Choropleth(\n",
    "    locations = df_piv.index,\n",
    "    z = df_piv['LOSS_PERC'],\n",
    "    text = df_piv.index,\n",
    "#    colorscale = 'Blues',\n",
    "    autocolorscale=True,\n",
    "    reversescale=False,\n",
    "    marker_line_color='darkgray',\n",
    "    marker_line_width=0.5,\n",
    "    colorbar_tickprefix = '()',\n",
    "    colorbar_title = 'Population<br>Individuals',\n",
    "))\n",
    "\n",
    "fig.update_layout(\n",
    "    title_text='2014 Global GDP',\n",
    "    geo=dict(\n",
    "        showframe=False,\n",
    "        showcoastlines=False,\n",
    "        projection_type='equirectangular'\n",
    "    ),\n",
    "    annotations = [dict(\n",
    "        x=0.55,\n",
    "        y=0.1,\n",
    "        xref='paper',\n",
    "        yref='paper',\n",
    "        text='Source: <a href=\"https://www.google.com\">google</a>',\n",
    "        showarrow = False\n",
    "    )]\n",
    ")\n",
    "\n",
    "fig.show()\n",
    "\n"
   ]
  },
  {
   "cell_type": "raw",
   "metadata": {},
   "source": [
    "https://plotly.com/python/static-image-export/\n",
    "fig.write_image('./img.png')"
   ]
  },
  {
   "cell_type": "raw",
   "metadata": {},
   "source": [
    "import plotly.graph_objects as go\n",
    "import pandas as pd\n",
    "\n",
    "df = pd.read_csv('https://raw.githubusercontent.com/plotly/datasets/master/2014_world_gdp_with_codes.csv')\n",
    "\n",
    "fig = go.Figure(data=go.Choropleth(\n",
    "    locations = df['CODE'],\n",
    "    z = df['GDP (BILLIONS)'],\n",
    "    text = df['COUNTRY'],\n",
    "    colorscale = 'Blues',\n",
    "    autocolorscale=False,\n",
    "    reversescale=True,\n",
    "    marker_line_color='darkgray',\n",
    "    marker_line_width=0.5,\n",
    "    colorbar_tickprefix = '$',\n",
    "    colorbar_title = 'GDP<br>Billions US$',\n",
    "))\n",
    "\n",
    "fig.update_layout(\n",
    "    title_text='2014 Global GDP',\n",
    "    geo=dict(\n",
    "        showframe=False,\n",
    "        showcoastlines=False,\n",
    "        projection_type='equirectangular'\n",
    "    ),\n",
    "    annotations = [dict(\n",
    "        x=0.55,\n",
    "        y=0.1,\n",
    "        xref='paper',\n",
    "        yref='paper',\n",
    "        text='Source: <a href=\"https://www.cia.gov/library/publications/the-world-factbook/fields/2195.html\">\\\n",
    "            CIA World Factbook</a>',\n",
    "        showarrow = False\n",
    "    )]\n",
    ")\n",
    "\n",
    "fig.show()"
   ]
  },
  {
   "cell_type": "raw",
   "metadata": {},
   "source": []
  },
  {
   "cell_type": "raw",
   "metadata": {},
   "source": []
  },
  {
   "cell_type": "raw",
   "metadata": {},
   "source": []
  },
  {
   "cell_type": "raw",
   "metadata": {},
   "source": []
  },
  {
   "cell_type": "raw",
   "metadata": {},
   "source": []
  },
  {
   "cell_type": "raw",
   "metadata": {},
   "source": [
    "# Construct Scoring"
   ]
  },
  {
   "cell_type": "raw",
   "metadata": {},
   "source": [
    "score_weights = {'GEN_TOTAL_YOY':1,\n",
    "                'LOSS_USDMN'}"
   ]
  },
  {
   "cell_type": "raw",
   "metadata": {},
   "source": []
  },
  {
   "cell_type": "raw",
   "metadata": {},
   "source": []
  },
  {
   "cell_type": "raw",
   "metadata": {},
   "source": []
  },
  {
   "cell_type": "raw",
   "metadata": {},
   "source": []
  },
  {
   "cell_type": "raw",
   "metadata": {},
   "source": [
    "t1 = df_xxx[~df_xxx['LOSS_USDMN'].isna()].sort_values(by='LOSS_USDMN', ascending=False)\n",
    "t1.head(40)"
   ]
  },
  {
   "cell_type": "raw",
   "metadata": {},
   "source": [
    "t1 = df_xxx[df_xxx['LOSS_USDMN'].isna()].sort_values(by='LOSS_USDMN', ascending=False)\n",
    "t1.head(40)"
   ]
  },
  {
   "cell_type": "raw",
   "metadata": {},
   "source": []
  },
  {
   "cell_type": "raw",
   "metadata": {},
   "source": [
    "math.isnan(df_piv.loc['ABW','LOSS_USD'])"
   ]
  },
  {
   "cell_type": "raw",
   "metadata": {},
   "source": [
    "for i in range(len(df_piv)):\n",
    "    "
   ]
  },
  {
   "cell_type": "raw",
   "metadata": {},
   "source": [
    "df_piv[['LOSS_TWH', 'PRICE_RES_USDKWH', 'LOSS_USD']]"
   ]
  },
  {
   "cell_type": "raw",
   "metadata": {},
   "source": []
  },
  {
   "cell_type": "raw",
   "metadata": {},
   "source": [
    "dfpiv = df.pivot(columns='Indicator Name', values=['Country Code','2017'])"
   ]
  },
  {
   "cell_type": "raw",
   "metadata": {},
   "source": [
    "dfpiv"
   ]
  },
  {
   "cell_type": "raw",
   "metadata": {},
   "source": [
    "dfuns = df.unstack(level='Indicator Name')"
   ]
  },
  {
   "cell_type": "raw",
   "metadata": {},
   "source": [
    "df"
   ]
  },
  {
   "cell_type": "raw",
   "metadata": {},
   "source": []
  },
  {
   "cell_type": "raw",
   "metadata": {},
   "source": [
    "df_abw = df[df['Country Code'] == 'ABW']"
   ]
  },
  {
   "cell_type": "raw",
   "metadata": {},
   "source": [
    "df_abw.head()"
   ]
  },
  {
   "cell_type": "raw",
   "metadata": {},
   "source": [
    "df_abw.shape"
   ]
  },
  {
   "cell_type": "raw",
   "metadata": {},
   "source": [
    "df_abw.pivot(index='Country Code', columns='Indicator Name', values='2017')"
   ]
  },
  {
   "cell_type": "raw",
   "metadata": {},
   "source": []
  },
  {
   "cell_type": "raw",
   "metadata": {},
   "source": [
    "df_2 = df[(df['Country Code'] == 'ABW') | (df['Country Code'] == 'ZWE')]"
   ]
  },
  {
   "cell_type": "raw",
   "metadata": {},
   "source": [
    "df_2"
   ]
  },
  {
   "cell_type": "raw",
   "metadata": {},
   "source": [
    "df_2.pivot(index='Country Code', columns='Indicator Name', values='2017')"
   ]
  },
  {
   "cell_type": "raw",
   "metadata": {},
   "source": [
    "df.duplicated().sum()"
   ]
  },
  {
   "cell_type": "raw",
   "metadata": {},
   "source": [
    "df.pivot(index='Country Code', columns='Indicator Name', values='2017')"
   ]
  },
  {
   "cell_type": "raw",
   "metadata": {},
   "source": [
    "df['Country Code'].nunique()"
   ]
  },
  {
   "cell_type": "raw",
   "metadata": {},
   "source": [
    "df['Country Name'].nunique()"
   ]
  },
  {
   "cell_type": "raw",
   "metadata": {},
   "source": []
  },
  {
   "cell_type": "raw",
   "metadata": {},
   "source": []
  },
  {
   "cell_type": "raw",
   "metadata": {},
   "source": []
  },
  {
   "cell_type": "raw",
   "metadata": {},
   "source": []
  },
  {
   "cell_type": "raw",
   "metadata": {},
   "source": [
    "short = bmi_df[~bmi_df[['Country Code', 'Country Name']].duplicated()]"
   ]
  },
  {
   "cell_type": "raw",
   "metadata": {},
   "source": [
    "short"
   ]
  },
  {
   "cell_type": "raw",
   "metadata": {},
   "source": [
    "short['Country Name'].nunique()"
   ]
  },
  {
   "cell_type": "raw",
   "metadata": {},
   "source": [
    "short[short['Country Code'].duplicated()]"
   ]
  },
  {
   "cell_type": "raw",
   "metadata": {},
   "source": [
    "short[short['Country Name'] == 'Serbia']"
   ]
  },
  {
   "cell_type": "raw",
   "metadata": {},
   "source": [
    "short[short['Country Code'] == 'SRB']"
   ]
  },
  {
   "cell_type": "raw",
   "metadata": {},
   "source": [
    "short[short['Country Code'] == 'NGA']"
   ]
  },
  {
   "cell_type": "raw",
   "metadata": {},
   "source": [
    "short[short['Country Code'] == 'NLD']"
   ]
  },
  {
   "cell_type": "raw",
   "metadata": {},
   "source": []
  },
  {
   "cell_type": "raw",
   "metadata": {},
   "source": [
    "bmi_df[['Country Code', 'Country Name']]"
   ]
  },
  {
   "cell_type": "raw",
   "metadata": {},
   "source": []
  },
  {
   "cell_type": "raw",
   "metadata": {},
   "source": []
  },
  {
   "cell_type": "raw",
   "metadata": {},
   "source": []
  },
  {
   "cell_type": "raw",
   "metadata": {},
   "source": []
  },
  {
   "cell_type": "raw",
   "metadata": {},
   "source": []
  },
  {
   "cell_type": "raw",
   "metadata": {},
   "source": []
  },
  {
   "cell_type": "raw",
   "metadata": {},
   "source": []
  },
  {
   "cell_type": "raw",
   "metadata": {},
   "source": [
    "short2 = rise_df[~rise_df[['Country Code', 'Country Name']].duplicated()]"
   ]
  },
  {
   "cell_type": "raw",
   "metadata": {},
   "source": [
    "short2"
   ]
  },
  {
   "cell_type": "raw",
   "metadata": {},
   "source": [
    "short2[short2['Country Code'].duplicated()]"
   ]
  },
  {
   "cell_type": "raw",
   "metadata": {},
   "source": []
  }
 ],
 "metadata": {
  "kernelspec": {
   "display_name": "Python 3",
   "language": "python",
   "name": "python3"
  },
  "language_info": {
   "codemirror_mode": {
    "name": "ipython",
    "version": 3
   },
   "file_extension": ".py",
   "mimetype": "text/x-python",
   "name": "python",
   "nbconvert_exporter": "python",
   "pygments_lexer": "ipython3",
   "version": "3.7.4"
  }
 },
 "nbformat": 4,
 "nbformat_minor": 2
}
